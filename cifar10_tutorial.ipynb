{
  "cells": [
    {
      "cell_type": "markdown",
      "metadata": {
        "id": "view-in-github",
        "colab_type": "text"
      },
      "source": [
        "<a href=\"https://colab.research.google.com/github/nzl-thu/PRMLTA/blob/main/cifar10_tutorial.ipynb\" target=\"_parent\"><img src=\"https://colab.research.google.com/assets/colab-badge.svg\" alt=\"Open In Colab\"/></a>"
      ]
    },
    {
      "cell_type": "code",
      "execution_count": 1,
      "metadata": {
        "id": "uB4Pjk-51eyB",
        "pycharm": {
          "name": "#%%\n"
        }
      },
      "outputs": [],
      "source": [
        "# For tips on running notebooks in Google Colab, see\n",
        "# https://pytorch.org/tutorials/beginner/colab\n",
        "%matplotlib inline"
      ]
    },
    {
      "cell_type": "markdown",
      "metadata": {
        "id": "KC6CgPRXG6dF"
      },
      "source": [
        "\n",
        "# A Gentle Introduction to ``torch.autograd``\n",
        "\n",
        "``torch.autograd`` is PyTorch’s automatic differentiation engine that powers\n",
        "neural network training. In this section, you will get a basic sense of how ``autograd`` collects gradients.\n"
      ]
    },
    {
      "cell_type": "markdown",
      "metadata": {
        "id": "lAfL8QFyIVix"
      },
      "source": [
        "In homework 8, you have encountered some matrix calculus equations. For example:\n",
        "\n",
        "\\begin{align}&\\frac{\\partial}{\\partial{X}}\\mathrm{\\text{Tr}}((Y-CX)^T(Y-CX))=-2 C^T (Y-CX)\\end{align}\n",
        "\n",
        "Now, let's see how we can perform this gradient calculation using pytorch's autograd mechanics (**without** the need of knowing the explicit formula of the gradient).\n",
        "\n",
        "\n"
      ]
    },
    {
      "cell_type": "markdown",
      "source": [
        "We first create the matrix ``X``, ``C`` and ``Y``. Note that we pass ``requires_grad=True`` when creating matrix ``X``. This signals to ``autograd`` that every operation on them should be tracked."
      ],
      "metadata": {
        "id": "TdGbJVerN9R3"
      }
    },
    {
      "cell_type": "code",
      "execution_count": 2,
      "metadata": {
        "id": "bra0cSMVIVix"
      },
      "outputs": [],
      "source": [
        "import torch\n",
        "X = torch.randn(4, 4, requires_grad=True)\n",
        "C = torch.randn(4, 4)\n",
        "Y = torch.randn(4, 4)"
      ]
    },
    {
      "cell_type": "code",
      "execution_count": 3,
      "metadata": {
        "colab": {
          "base_uri": "https://localhost:8080/"
        },
        "id": "K7Ll2LNtIViy",
        "outputId": "750016bf-f6a5-4967-a1fc-6606436cd6bb"
      },
      "outputs": [
        {
          "output_type": "stream",
          "name": "stdout",
          "text": [
            "expected gradient on X:\n",
            "\n",
            "autograd calculated gradient on X:\n",
            " tensor([[-16.1900,  32.3025,  -6.7518,  -2.7811],\n",
            "        [  5.4551,  -8.1191,   1.0660,  -1.6280],\n",
            "        [ 23.6524, -12.2436,   5.7600,  -7.5325],\n",
            "        [ 11.5784, -14.0100,   5.9316,  -0.0560]])\n"
          ]
        }
      ],
      "source": [
        "print('expected gradient on X:\\n', )\n",
        "# calculate the result\n",
        "Q=torch.trace((Y-C @ X).T @ (Y-C.matmul(X)))\n",
        "# perform back-propagation\n",
        "Q.backward()\n",
        "print('autograd calculated gradient on X:\\n', X.grad)  # the gradients on X are stored in X.grad "
      ]
    },
    {
      "cell_type": "markdown",
      "source": [
        "Nice! The gradient calculated by autograd is the same as our analytical solution!\n",
        "\n",
        "Now, let's re-execute the cell and see what happens!"
      ],
      "metadata": {
        "id": "NbC649zaQI3A"
      }
    },
    {
      "cell_type": "code",
      "source": [
        "print('expected gradient on X:\\n', -2 * C.T @ (Y - C @ X))\n",
        "# calculate the result\n",
        "Q=torch.trace((Y-C @ X).T @ (Y-C.matmul(X)))\n",
        "# perform back-propagation\n",
        "Q.backward()\n",
        "print('autograd calculated gradient on X:\\n', X.grad)"
      ],
      "metadata": {
        "colab": {
          "base_uri": "https://localhost:8080/"
        },
        "id": "aQuHIlsDRJ07",
        "outputId": "54dad421-d788-496d-9ab3-545e0d1b7d70"
      },
      "execution_count": 4,
      "outputs": [
        {
          "output_type": "stream",
          "name": "stdout",
          "text": [
            "expected gradient on X:\n",
            " tensor([[-16.1900,  32.3025,  -6.7518,  -2.7811],\n",
            "        [  5.4551,  -8.1191,   1.0660,  -1.6280],\n",
            "        [ 23.6524, -12.2436,   5.7600,  -7.5325],\n",
            "        [ 11.5784, -14.0100,   5.9316,  -0.0560]], grad_fn=<MmBackward0>)\n",
            "autograd calculated gradient on X:\n",
            " tensor([[-32.3799,  64.6050, -13.5036,  -5.5623],\n",
            "        [ 10.9102, -16.2381,   2.1319,  -3.2559],\n",
            "        [ 47.3048, -24.4872,  11.5200, -15.0651],\n",
            "        [ 23.1568, -28.0200,  11.8632,  -0.1120]])\n"
          ]
        }
      ]
    },
    {
      "cell_type": "markdown",
      "source": [
        "Why in this time the autograd calculated gradient is not the same as our analytical result? This is because every time ``backward()`` function is called, gradients calculated by autograd are **accumulated** into ``X.grad``. \n",
        "\n",
        "As a result, if we are only interested in the gradients for current operations, we must first clear previously stored gradients:"
      ],
      "metadata": {
        "id": "MJqUu7WXRNJI"
      }
    },
    {
      "cell_type": "code",
      "source": [
        "print('expected gradient on X:\\n', -2 * C.T @ (Y - C @ X))\n",
        "Q=torch.trace((Y-C @ X).T @ (Y-C.matmul(X)))\n",
        "X.grad.zero_()  # Important! Clear the previously stored gradients\n",
        "Q.backward()\n",
        "print('autograd calculated gradient on X:\\n', X.grad)"
      ],
      "metadata": {
        "colab": {
          "base_uri": "https://localhost:8080/"
        },
        "id": "SN3YfuBRTGMJ",
        "outputId": "85c0aba3-a824-46c1-c10e-43f27834249a"
      },
      "execution_count": 5,
      "outputs": [
        {
          "output_type": "stream",
          "name": "stdout",
          "text": [
            "expected gradient on X:\n",
            " tensor([[-16.1900,  32.3025,  -6.7518,  -2.7811],\n",
            "        [  5.4551,  -8.1191,   1.0660,  -1.6280],\n",
            "        [ 23.6524, -12.2436,   5.7600,  -7.5325],\n",
            "        [ 11.5784, -14.0100,   5.9316,  -0.0560]], grad_fn=<MmBackward0>)\n",
            "autograd calculated gradient on X:\n",
            " tensor([[-16.1900,  32.3025,  -6.7518,  -2.7811],\n",
            "        [  5.4551,  -8.1191,   1.0660,  -1.6280],\n",
            "        [ 23.6524, -12.2436,   5.7600,  -7.5325],\n",
            "        [ 11.5784, -14.0100,   5.9316,  -0.0560]])\n"
          ]
        }
      ]
    },
    {
      "cell_type": "markdown",
      "source": [
        "Works as we expected again!\n",
        "\n",
        "When performing neural network training, we will see a more principled way of clearing gradients called ``zero_grad``, which will be elaborated later."
      ],
      "metadata": {
        "id": "bdaO3qgJT1HC"
      }
    },
    {
      "cell_type": "markdown",
      "metadata": {
        "id": "M4f3bSAA1eyC",
        "pycharm": {
          "name": "#%% md\n"
        }
      },
      "source": [
        "\n",
        "# Training a Classifier\n",
        "\n",
        "\n",
        "## Data Preparation\n",
        "\n",
        "Generally, when you have to deal with image, text, audio or video data,\n",
        "you can use standard python packages that load data into a numpy array.\n",
        "Then you can convert this array into a ``torch.*Tensor``.\n",
        "\n",
        "Specifically for vision, we have created a package called\n",
        "``torchvision``, that has data loaders for common datasets such as\n",
        "ImageNet, CIFAR10, MNIST, etc. and data transformers for images, viz.,\n",
        "``torchvision.datasets`` and ``torch.utils.data.DataLoader``.\n",
        "\n",
        "This provides a huge convenience and avoids writing boilerplate code.\n",
        "\n",
        "For this tutorial, we will use the CIFAR10 dataset.\n",
        "It has the classes: ‘airplane’, ‘automobile’, ‘bird’, ‘cat’, ‘deer’,\n",
        "‘dog’, ‘frog’, ‘horse’, ‘ship’, ‘truck’. The images in CIFAR-10 are of\n",
        "size 3x32x32, i.e. 3-channel color images of 32x32 pixels in size.\n",
        "\n",
        "## Training an image classifier\n",
        "\n",
        "We will do the following steps in order:\n",
        "\n",
        "1. Load and normalize the CIFAR10 training and test datasets using\n",
        "   ``torchvision``\n",
        "2. Define a Neural Network\n",
        "3. Define a loss function\n",
        "4. Train the network on the training data\n",
        "5. Test the network on the test data\n",
        "\n",
        "### 1. Load and normalize CIFAR10\n",
        "\n",
        "Using ``torchvision``, it’s extremely easy to load CIFAR10.\n"
      ]
    },
    {
      "cell_type": "code",
      "execution_count": 6,
      "metadata": {
        "id": "H9m_Wj1r1eyD",
        "pycharm": {
          "name": "#%%\n"
        }
      },
      "outputs": [],
      "source": [
        "import torchvision\n",
        "import torchvision.transforms as transforms"
      ]
    },
    {
      "cell_type": "markdown",
      "metadata": {
        "id": "jTSsPfYI1eyE",
        "pycharm": {
          "name": "#%% md\n"
        }
      },
      "source": [
        "The output of torchvision datasets are PILImage images of range [0, 1].\n",
        "We transform them to Tensors of normalized range [-1, 1].\n",
        "\n"
      ]
    },
    {
      "cell_type": "code",
      "execution_count": 13,
      "metadata": {
        "colab": {
          "base_uri": "https://localhost:8080/"
        },
        "id": "t-4mVR4v1eyE",
        "outputId": "5bfafc31-d966-4275-e231-79e661cad645",
        "pycharm": {
          "name": "#%%\n"
        }
      },
      "outputs": [
        {
          "output_type": "stream",
          "name": "stdout",
          "text": [
            "Files already downloaded and verified\n"
          ]
        },
        {
          "output_type": "stream",
          "name": "stderr",
          "text": [
            "/usr/local/lib/python3.9/dist-packages/torch/utils/data/dataloader.py:561: UserWarning: This DataLoader will create 4 worker processes in total. Our suggested max number of worker in current system is 2, which is smaller than what this DataLoader is going to create. Please be aware that excessive worker creation might get DataLoader running slow or even freeze, lower the worker number to avoid potential slowness/freeze if necessary.\n",
            "  warnings.warn(_create_warning_msg(\n"
          ]
        },
        {
          "output_type": "stream",
          "name": "stdout",
          "text": [
            "Files already downloaded and verified\n"
          ]
        }
      ],
      "source": [
        "transform = transforms.Compose(\n",
        "    [transforms.ToTensor(),\n",
        "     transforms.Normalize((0.5, 0.5, 0.5), (0.5, 0.5, 0.5))])\n",
        "\n",
        "batch_size = 128\n",
        "\n",
        "trainset = torchvision.datasets.CIFAR10(root='./data', train=True,\n",
        "                                        download=True, transform=transform)\n",
        "trainloader = torch.utils.data.DataLoader(trainset, batch_size=batch_size,\n",
        "                                          shuffle=True, num_workers=4)\n",
        "\n",
        "testset = torchvision.datasets.CIFAR10(root='./data', train=False,\n",
        "                                       download=True, transform=transform)\n",
        "testloader = torch.utils.data.DataLoader(testset, batch_size=batch_size,\n",
        "                                         shuffle=False, num_workers=4)\n",
        "\n",
        "classes = ('plane', 'car', 'bird', 'cat',\n",
        "           'deer', 'dog', 'frog', 'horse', 'ship', 'truck')"
      ]
    },
    {
      "cell_type": "markdown",
      "metadata": {
        "id": "_vPiZ9NW1eyE",
        "pycharm": {
          "name": "#%% md\n"
        }
      },
      "source": [
        "Let us show some of the training images, for fun.\n",
        "\n"
      ]
    },
    {
      "cell_type": "code",
      "execution_count": 8,
      "metadata": {
        "colab": {
          "base_uri": "https://localhost:8080/",
          "height": 211
        },
        "id": "yCwWHc331eyE",
        "outputId": "b88c224c-1e8e-4c95-adff-56db0703776f",
        "pycharm": {
          "name": "#%%\n"
        }
      },
      "outputs": [
        {
          "output_type": "display_data",
          "data": {
            "text/plain": [
              "<Figure size 640x480 with 1 Axes>"
            ],
            "image/png": "[encoded data removed]"
          },
          "metadata": {}
        },
        {
          "output_type": "stream",
          "name": "stdout",
          "text": [
            "frog  horse car   car  \n"
          ]
        }
      ],
      "source": [
        "import matplotlib.pyplot as plt\n",
        "import numpy as np\n",
        "\n",
        "# functions to show an image\n",
        "\n",
        "\n",
        "def imshow(img):\n",
        "    img = img / 2 + 0.5     # unnormalize\n",
        "    npimg = img.numpy()\n",
        "    plt.imshow(np.transpose(npimg, (1, 2, 0)))\n",
        "    plt.show()\n",
        "\n",
        "\n",
        "# get some random training images\n",
        "dataiter = iter(trainloader)\n",
        "images, labels = next(dataiter)\n",
        "\n",
        "# show images\n",
        "imshow(torchvision.utils.make_grid(images))\n",
        "# print labels\n",
        "print(' '.join(f'{classes[labels[j]]:5s}' for j in range(batch_size)))"
      ]
    },
    {
      "cell_type": "markdown",
      "metadata": {
        "id": "LbPnPmIC1eyE",
        "pycharm": {
          "name": "#%% md\n"
        }
      },
      "source": [
        "### 2. Define a Neural Network\n",
        "Here, we define a simple neural network with 2 hidden layers:\n",
        "\n"
      ]
    },
    {
      "cell_type": "code",
      "execution_count": 43,
      "metadata": {
        "id": "6SUlBp_K1eyF",
        "pycharm": {
          "name": "#%%\n"
        }
      },
      "outputs": [],
      "source": [
        "import torch.nn as nn\n",
        "import torch.nn.functional as F\n",
        "\n",
        "\n",
        "class Net(nn.Module):\n",
        "    def __init__(self):\n",
        "        super().__init__()\n",
        "        self.fc1 = nn.Linear(3*32*32, 768)\n",
        "        self.fc2 = nn.Linear(768, 10)\n",
        "        \n",
        "    def forward(self, x):\n",
        "        x = x.flatten(1)\n",
        "        x = self.fc1(x)\n",
        "        x = F.relu(x)\n",
        "        x = self.fc2(x)\n",
        "        return x\n",
        "\n",
        "net = Net().cuda()"
      ]
    },
    {
      "cell_type": "markdown",
      "metadata": {
        "id": "ZIxm3TlP1eyF",
        "pycharm": {
          "name": "#%% md\n"
        }
      },
      "source": [
        "### 3. Define a Loss function and optimizer\n",
        "Let's use a Classification Cross-Entropy loss.\n",
        "For optimizer, we adopt a highly effective one called Adam. \n",
        "\n",
        "Tips: If you are not sure which optimizer to use, try Adam first!"
      ]
    },
    {
      "cell_type": "code",
      "execution_count": 44,
      "metadata": {
        "id": "P0lbMvoN1eyF",
        "pycharm": {
          "name": "#%%\n"
        }
      },
      "outputs": [],
      "source": [
        "import torch.optim as optim\n",
        "\n",
        "criterion = nn.CrossEntropyLoss()\n",
        "optimizer = optim.Adam(net.parameters(), lr=0.001)"
      ]
    },
    {
      "cell_type": "markdown",
      "metadata": {
        "id": "oiyR-gC01eyF",
        "pycharm": {
          "name": "#%% md\n"
        }
      },
      "source": [
        "### 4. Train the network\n",
        "\n",
        "This is when things start to get interesting.\n",
        "We simply have to loop over our data iterator, and feed the inputs to the\n",
        "network and optimize.\n",
        "\n"
      ]
    },
    {
      "cell_type": "code",
      "execution_count": 45,
      "metadata": {
        "colab": {
          "base_uri": "https://localhost:8080/"
        },
        "id": "6uHRF87O1eyF",
        "outputId": "43b4eef1-2128-4976-cd8a-2a5b7d160e0e",
        "pycharm": {
          "name": "#%%\n"
        }
      },
      "outputs": [
        {
          "output_type": "stream",
          "name": "stdout",
          "text": [
            "[1,    20] loss: 2.073\n",
            "[1,    40] loss: 1.822\n",
            "[1,    60] loss: 1.751\n",
            "[1,    80] loss: 1.725\n",
            "[1,   100] loss: 1.757\n",
            "[1,   120] loss: 1.659\n",
            "[1,   140] loss: 1.661\n",
            "[1,   160] loss: 1.640\n",
            "[1,   180] loss: 1.624\n",
            "[1,   200] loss: 1.597\n",
            "[1,   220] loss: 1.617\n",
            "[1,   240] loss: 1.597\n",
            "[1,   260] loss: 1.601\n",
            "[1,   280] loss: 1.537\n",
            "[1,   300] loss: 1.577\n",
            "[1,   320] loss: 1.573\n",
            "[1,   340] loss: 1.540\n",
            "[1,   360] loss: 1.613\n",
            "[1,   380] loss: 1.566\n",
            "[2,    20] loss: 1.471\n",
            "[2,    40] loss: 1.431\n",
            "[2,    60] loss: 1.442\n",
            "[2,    80] loss: 1.475\n",
            "[2,   100] loss: 1.449\n",
            "[2,   120] loss: 1.467\n",
            "[2,   140] loss: 1.499\n",
            "[2,   160] loss: 1.479\n",
            "[2,   180] loss: 1.456\n",
            "[2,   200] loss: 1.385\n",
            "[2,   220] loss: 1.467\n",
            "[2,   240] loss: 1.452\n",
            "[2,   260] loss: 1.465\n",
            "[2,   280] loss: 1.438\n",
            "[2,   300] loss: 1.461\n",
            "[2,   320] loss: 1.424\n",
            "[2,   340] loss: 1.442\n",
            "[2,   360] loss: 1.399\n",
            "[2,   380] loss: 1.433\n"
          ]
        }
      ],
      "source": [
        "for epoch in range(2):  # loop over the dataset multiple times\n",
        "\n",
        "    running_loss = 0.0\n",
        "    for i, data in enumerate(trainloader, 0):\n",
        "\n",
        "        # get the inputs; data is a list of [inputs, labels]\n",
        "        inputs, labels = data[0].cuda(), data[1].cuda()\n",
        "\n",
        "        # zero the parameter gradients\n",
        "        optimizer.zero_grad()\n",
        "\n",
        "        # forward + backward + optimize\n",
        "        outputs = net(inputs)\n",
        "        loss = criterion(outputs, labels)\n",
        "        loss.backward()\n",
        "        optimizer.step()\n",
        "\n",
        "        # print statistics\n",
        "        running_loss += loss.item()\n",
        "        if i % 20 == 19:    # print every 20 mini-batches\n",
        "            print(f'[{epoch + 1}, {i + 1:5d}] loss: {running_loss / 20:.3f}')\n",
        "            running_loss = 0.0"
      ]
    },
    {
      "cell_type": "markdown",
      "metadata": {
        "id": "3koUhJxY1eyF",
        "pycharm": {
          "name": "#%% md\n"
        }
      },
      "source": [
        "Let's quickly save our trained model:\n",
        "\n"
      ]
    },
    {
      "cell_type": "code",
      "execution_count": 46,
      "metadata": {
        "id": "x2OGSqZB1eyF",
        "pycharm": {
          "name": "#%%\n"
        }
      },
      "outputs": [],
      "source": [
        "PATH = './cifar_net.pth'\n",
        "torch.save(net.state_dict(), PATH)"
      ]
    },
    {
      "cell_type": "markdown",
      "metadata": {
        "id": "5Almk2xs1eyF",
        "pycharm": {
          "name": "#%% md\n"
        }
      },
      "source": [
        "See [here](https://pytorch.org/docs/stable/notes/serialization.html)\n",
        "for more details on saving PyTorch models.\n",
        "\n",
        "### 5. Test the network on the test data\n",
        "\n",
        "We have trained the network for 2 passes over the training dataset.\n",
        "But we need to check if the network has learnt anything at all.\n",
        "\n",
        "We will check this by predicting the class label that the neural network\n",
        "outputs, and checking it against the ground-truth. If the prediction is\n",
        "correct, we add the sample to the list of correct predictions.\n",
        "\n",
        "Okay, first step. Let us display images from the test set to get familiar.\n",
        "\n"
      ]
    },
    {
      "cell_type": "code",
      "execution_count": 47,
      "metadata": {
        "colab": {
          "base_uri": "https://localhost:8080/",
          "height": 211
        },
        "id": "Ybfbkz8n1eyF",
        "outputId": "163bee5f-2148-431f-96fb-13a5471711ba",
        "pycharm": {
          "name": "#%%\n"
        }
      },
      "outputs": [
        {
          "output_type": "display_data",
          "data": {
            "text/plain": [
              "<Figure size 640x480 with 1 Axes>"
            ],
            "image/png": "[encoded data removed]"
          },
          "metadata": {}
        },
        {
          "output_type": "stream",
          "name": "stdout",
          "text": [
            "GroundTruth:  cat   ship  ship  plane\n"
          ]
        }
      ],
      "source": [
        "dataiter = iter(testloader)\n",
        "images, labels = next(dataiter)\n",
        "\n",
        "# print images\n",
        "imshow(torchvision.utils.make_grid(images[:4]))\n",
        "print('GroundTruth: ', ' '.join(f'{classes[labels[j]]:5s}' for j in range(4)))"
      ]
    },
    {
      "cell_type": "markdown",
      "metadata": {
        "id": "hZBKiGVO1eyF",
        "pycharm": {
          "name": "#%% md\n"
        }
      },
      "source": [
        "Next, let's load back in our saved model (note: saving and re-loading the model\n",
        "wasn't necessary here, we only did it to illustrate how to do so):\n",
        "\n"
      ]
    },
    {
      "cell_type": "code",
      "execution_count": 48,
      "metadata": {
        "colab": {
          "base_uri": "https://localhost:8080/"
        },
        "id": "SW9NR23s1eyG",
        "outputId": "cbb56c67-4178-4a08-9041-c169d2144357",
        "pycharm": {
          "name": "#%%\n"
        }
      },
      "outputs": [
        {
          "output_type": "execute_result",
          "data": {
            "text/plain": [
              "<All keys matched successfully>"
            ]
          },
          "metadata": {},
          "execution_count": 48
        }
      ],
      "source": [
        "net = Net()\n",
        "net.load_state_dict(torch.load(PATH))"
      ]
    },
    {
      "cell_type": "markdown",
      "metadata": {
        "id": "SkgSw_gb1eyG",
        "pycharm": {
          "name": "#%% md\n"
        }
      },
      "source": [
        "Okay, now let us see what the neural network thinks these examples above are:\n",
        "\n"
      ]
    },
    {
      "cell_type": "code",
      "execution_count": 49,
      "metadata": {
        "id": "EHfZPPjS1eyG",
        "pycharm": {
          "name": "#%%\n"
        },
        "colab": {
          "base_uri": "https://localhost:8080/"
        },
        "outputId": "62a1c8dd-a12d-4030-e4e5-4fbd51c0ac1f"
      },
      "outputs": [
        {
          "output_type": "stream",
          "name": "stdout",
          "text": [
            "outputs.shape: torch.Size([128, 10])\n",
            "outputs:\n",
            " tensor([[ 0.6741,  0.2208,  1.1422,  ..., -5.2093,  0.9354, -3.3762],\n",
            "        [ 1.4304,  2.2287, -2.5028,  ..., -3.7320,  5.9397,  4.3387],\n",
            "        [ 4.2259,  1.6875, -1.1522,  ..., -0.5780,  6.0027,  1.9693],\n",
            "        ...,\n",
            "        [-0.2847,  0.2971,  0.7220,  ..., -1.5967, -3.0939, -0.1824],\n",
            "        [ 1.2484,  0.0241,  0.9041,  ..., -1.3766,  1.8398,  1.6219],\n",
            "        [-3.5318, -3.5644, -0.3862,  ..., -0.2790, -2.2110, -1.7423]],\n",
            "       grad_fn=<AddmmBackward0>)\n"
          ]
        }
      ],
      "source": [
        "outputs = net(images)\n",
        "print(\"outputs.shape:\", outputs.shape)\n",
        "print(\"outputs:\\n\", outputs)"
      ]
    },
    {
      "cell_type": "markdown",
      "metadata": {
        "id": "KSmu0_aZ1eyG",
        "pycharm": {
          "name": "#%% md\n"
        }
      },
      "source": [
        "The outputs are energies for the 10 classes.\n",
        "The higher the energy for a class, the more the network\n",
        "thinks that the image is of the particular class.\n",
        "So, let's get the index of the highest energy:\n",
        "\n"
      ]
    },
    {
      "cell_type": "code",
      "execution_count": 50,
      "metadata": {
        "colab": {
          "base_uri": "https://localhost:8080/"
        },
        "id": "M42xejT_1eyG",
        "outputId": "b7466f25-1305-4697-be82-70fcb69436b4",
        "pycharm": {
          "name": "#%%\n"
        }
      },
      "outputs": [
        {
          "output_type": "stream",
          "name": "stdout",
          "text": [
            "Predicted:  cat   ship  ship  ship \n"
          ]
        }
      ],
      "source": [
        "_, predicted = torch.max(outputs, 1)\n",
        "\n",
        "print('Predicted: ', ' '.join(f'{classes[predicted[j]]:5s}'\n",
        "                              for j in range(4)))"
      ]
    },
    {
      "cell_type": "markdown",
      "metadata": {
        "id": "nFKvbb131eyG",
        "pycharm": {
          "name": "#%% md\n"
        }
      },
      "source": [
        "The results seem ok.\n",
        "\n",
        "Let us look at how the network performs on the whole dataset.\n",
        "\n"
      ]
    },
    {
      "cell_type": "code",
      "execution_count": 53,
      "metadata": {
        "colab": {
          "base_uri": "https://localhost:8080/"
        },
        "id": "T-FUZ5TH1eyG",
        "outputId": "45a92b04-e915-487e-8649-979b66c79293",
        "pycharm": {
          "name": "#%%\n"
        }
      },
      "outputs": [
        {
          "output_type": "stream",
          "name": "stderr",
          "text": [
            "/usr/local/lib/python3.9/dist-packages/torch/utils/data/dataloader.py:561: UserWarning: This DataLoader will create 4 worker processes in total. Our suggested max number of worker in current system is 2, which is smaller than what this DataLoader is going to create. Please be aware that excessive worker creation might get DataLoader running slow or even freeze, lower the worker number to avoid potential slowness/freeze if necessary.\n",
            "  warnings.warn(_create_warning_msg(\n"
          ]
        },
        {
          "output_type": "stream",
          "name": "stdout",
          "text": [
            "Accuracy of the network on the 10000 test images: 48 %\n"
          ]
        }
      ],
      "source": [
        "correct = 0\n",
        "total = 0\n",
        "# since we're not training, we don't need to calculate the gradients for our outputs\n",
        "with torch.no_grad():\n",
        "    for data in testloader:\n",
        "        images, labels = data[0], data[1]\n",
        "        # calculate outputs by running images through the network\n",
        "        outputs = net(images)\n",
        "        # the class with the highest energy is what we choose as prediction\n",
        "        _, predicted = torch.max(outputs.data, 1)\n",
        "        total += labels.size(0)\n",
        "        correct += (predicted == labels).sum().item()\n",
        "\n",
        "print(f'Accuracy of the network on the 10000 test images: {100 * correct // total} %')"
      ]
    },
    {
      "cell_type": "markdown",
      "metadata": {
        "id": "HcQNK_Lr1eyG",
        "pycharm": {
          "name": "#%% md\n"
        }
      },
      "source": [
        "That looks **way better than chance**, which is 10% accuracy (randomly picking\n",
        "a class out of 10 classes).\n",
        "That means the network have already learnt something with this small period of training.\n",
        "\n",
        "Hmmm, what are the classes that performed well, and the classes that did\n",
        "not perform well:\n",
        "\n"
      ]
    },
    {
      "cell_type": "code",
      "execution_count": 54,
      "metadata": {
        "colab": {
          "base_uri": "https://localhost:8080/"
        },
        "id": "5ldkDyz-1eyG",
        "outputId": "6f54b8df-4cdc-4892-d46c-4aa27fd84621",
        "pycharm": {
          "name": "#%%\n"
        }
      },
      "outputs": [
        {
          "output_type": "stream",
          "name": "stdout",
          "text": [
            "Accuracy for class: plane is 57.1 %\n",
            "Accuracy for class: car   is 51.5 %\n",
            "Accuracy for class: bird  is 21.6 %\n",
            "Accuracy for class: cat   is 45.9 %\n",
            "Accuracy for class: deer  is 31.4 %\n",
            "Accuracy for class: dog   is 29.2 %\n",
            "Accuracy for class: frog  is 67.0 %\n",
            "Accuracy for class: horse is 51.9 %\n",
            "Accuracy for class: ship  is 72.0 %\n",
            "Accuracy for class: truck is 54.6 %\n"
          ]
        }
      ],
      "source": [
        "# prepare to count predictions for each class\n",
        "correct_pred = {classname: 0 for classname in classes}\n",
        "total_pred = {classname: 0 for classname in classes}\n",
        "\n",
        "# again no gradients needed\n",
        "with torch.no_grad():\n",
        "    for data in testloader:\n",
        "        images, labels = data\n",
        "        outputs = net(images)\n",
        "        _, predictions = torch.max(outputs, 1)\n",
        "        # collect the correct predictions for each class\n",
        "        for label, prediction in zip(labels, predictions):\n",
        "            if label == prediction:\n",
        "                correct_pred[classes[label]] += 1\n",
        "            total_pred[classes[label]] += 1\n",
        "\n",
        "\n",
        "# print accuracy for each class\n",
        "for classname, correct_count in correct_pred.items():\n",
        "    accuracy = 100 * float(correct_count) / total_pred[classname]\n",
        "    print(f'Accuracy for class: {classname:5s} is {accuracy:.1f} %')"
      ]
    },
    {
      "cell_type": "markdown",
      "metadata": {
        "id": "sf-9-yZt1eyG",
        "pycharm": {
          "name": "#%% md\n"
        }
      },
      "source": [
        "Okay, so what next?\n",
        "\n",
        "## Exercise: Build a more powerful neural network\n",
        "\n",
        "The previous example is a basic proof of concept of how we can use pytorch to build neural networks. Now it's your turn to build a more powerful neural network!\n",
        "\n",
        "### ResNet\n",
        "ResNet is a deep convolutional neural network, uses residual connections to address vanishing gradients and performance degradation in deep networks.\n",
        "\n",
        "Simply put, the core idea of ResNet is a so called \"skip\" connection:\n",
        "\n",
        "\\begin{align}\\text{without skip}&: y=f(x) \\\\ \\text{with skip}&: y=f(x)+x\\end{align}\n",
        "\n",
        "A ResNet is typically consists of 3 parts: \n",
        "1. The first part uses one convolutional layer to project the input images into a feature space.\n",
        "2. The second part consists of multiple blocks for feature processing.\n",
        "3. The third part performs a spatial pooling and converts the feature into classification results.\n",
        "The building block of the second part is the key of ResNet, which is achieved by BasicBlock class.\n",
        "\n",
        "### Your task: \n",
        "Finish the BasicBlock class and perform training & evaluation using your ResNet. Compare how it performs with the previous vannila neural network."
      ]
    },
    {
      "cell_type": "code",
      "execution_count": 55,
      "metadata": {
        "id": "LWgF9jXw1eyG",
        "pycharm": {
          "name": "#%%\n"
        }
      },
      "outputs": [],
      "source": [
        "class BasicBlock(nn.Module):\n",
        "    def __init__(self, dim):\n",
        "        super().__init__()\n",
        "        # TODO\n",
        "        self.conv1 = nn.Conv2d(dim, dim, kernel_size=3, padding=1)\n",
        "        self.bn1 = nn.BatchNorm2d(dim)\n",
        "        self.conv2 = nn.Conv2d(dim, dim, kernel_size=3, padding=1)\n",
        "        self.bn2 = nn.BatchNorm2d(dim)\n",
        "\n",
        "    def forward(self, x):\n",
        "        # TODO\n",
        "        out = F.relu(self.bn1(self.conv1(x)))\n",
        "        out = self.bn2(self.conv2(out))\n",
        "        out += x\n",
        "        out = F.relu(out)\n",
        "        return out"
      ]
    },
    {
      "cell_type": "code",
      "source": [
        "class ResNet(nn.Module):\n",
        "    def __init__(self, n_blocks, num_classes=10):\n",
        "        super().__init__()\n",
        "        self.conv1 = nn.Conv2d(3, 32, kernel_size=3, padding=1)\n",
        "        self.bn1 = nn.BatchNorm2d(32)\n",
        "        self.blocks = nn.Sequential(*[\n",
        "            BasicBlock(dim=32) for _ in range(n_blocks)\n",
        "        ])\n",
        "        self.linear = nn.Linear(32, num_classes)\n",
        "\n",
        "    def forward(self, x):\n",
        "        out = F.relu(self.bn1(self.conv1(x)))\n",
        "        out = self.blocks(out)\n",
        "        out = F.avg_pool2d(out, 32)\n",
        "        out = out.view(out.size(0), -1)\n",
        "        out = self.linear(out)\n",
        "        return out\n",
        "\n",
        "net = ResNet(n_blocks=6).cuda()\n"
      ],
      "metadata": {
        "id": "Hw6KYbRbI3iO"
      },
      "execution_count": 60,
      "outputs": []
    },
    {
      "cell_type": "markdown",
      "source": [
        "Then, it's time to train & test the performance of your neural network! "
      ],
      "metadata": {
        "id": "Kfoa4M5jPp-7"
      }
    },
    {
      "cell_type": "code",
      "execution_count": 61,
      "metadata": {
        "id": "4NSudsdm1eyG",
        "pycharm": {
          "name": "#%%\n"
        },
        "colab": {
          "base_uri": "https://localhost:8080/"
        },
        "outputId": "79eeabfb-035c-4f4d-90ec-687af78a0c7d"
      },
      "outputs": [
        {
          "output_type": "stream",
          "name": "stdout",
          "text": [
            "[1,    20] loss: 2.071\n",
            "[1,    40] loss: 1.808\n",
            "[1,    60] loss: 1.700\n",
            "[1,    80] loss: 1.678\n",
            "[1,   100] loss: 1.619\n",
            "[1,   120] loss: 1.557\n",
            "[1,   140] loss: 1.521\n",
            "[1,   160] loss: 1.509\n",
            "[1,   180] loss: 1.424\n",
            "[1,   200] loss: 1.395\n",
            "[1,   220] loss: 1.405\n",
            "[1,   240] loss: 1.392\n",
            "[1,   260] loss: 1.385\n",
            "[1,   280] loss: 1.331\n",
            "[1,   300] loss: 1.307\n",
            "[1,   320] loss: 1.311\n",
            "[1,   340] loss: 1.300\n",
            "[1,   360] loss: 1.228\n",
            "[1,   380] loss: 1.249\n",
            "[2,    20] loss: 1.202\n",
            "[2,    40] loss: 1.201\n",
            "[2,    60] loss: 1.192\n",
            "[2,    80] loss: 1.184\n",
            "[2,   100] loss: 1.196\n",
            "[2,   120] loss: 1.123\n",
            "[2,   140] loss: 1.187\n",
            "[2,   160] loss: 1.126\n",
            "[2,   180] loss: 1.125\n",
            "[2,   200] loss: 1.143\n",
            "[2,   220] loss: 1.081\n",
            "[2,   240] loss: 1.071\n",
            "[2,   260] loss: 1.033\n",
            "[2,   280] loss: 1.078\n",
            "[2,   300] loss: 1.062\n",
            "[2,   320] loss: 1.014\n",
            "[2,   340] loss: 1.043\n",
            "[2,   360] loss: 1.058\n",
            "[2,   380] loss: 1.013\n",
            "Accuracy of the network on the 10000 test images: 61 %\n"
          ]
        }
      ],
      "source": [
        "criterion = nn.CrossEntropyLoss()\n",
        "optimizer = optim.Adam(net.parameters(), lr=0.001)\n",
        "\n",
        "for epoch in range(2):  # loop over the dataset multiple times\n",
        "\n",
        "    running_loss = 0.0\n",
        "    for i, data in enumerate(trainloader, 0):\n",
        "\n",
        "        # get the inputs; data is a list of [inputs, labels]\n",
        "        inputs, labels = data[0].cuda(), data[1].cuda()\n",
        "\n",
        "        # zero the parameter gradients\n",
        "        optimizer.zero_grad()\n",
        "\n",
        "        # forward + backward + optimize\n",
        "        outputs = net(inputs)\n",
        "        loss = criterion(outputs, labels)\n",
        "        loss.backward()\n",
        "        optimizer.step()\n",
        "\n",
        "        # print statistics\n",
        "        running_loss += loss.item()\n",
        "        if i % 20 == 19:    # print every 20 mini-batches\n",
        "            print(f'[{epoch + 1}, {i + 1:5d}] loss: {running_loss / 20:.3f}')\n",
        "            running_loss = 0.0\n",
        "\n",
        "correct = 0\n",
        "total = 0\n",
        "net.eval()\n",
        "# since we're not training, we don't need to calculate the gradients for our outputs\n",
        "with torch.no_grad():\n",
        "    for data in testloader:\n",
        "        images, labels = data[0].cuda(), data[1].cuda()\n",
        "        # calculate outputs by running images through the network\n",
        "        outputs = net(images)\n",
        "        # the class with the highest energy is what we choose as prediction\n",
        "        _, predicted = torch.max(outputs.data, 1)\n",
        "        total += labels.size(0)\n",
        "        correct += (predicted == labels).sum().item()\n",
        "\n",
        "print(f'Accuracy of the network on the 10000 test images: {100 * correct // total} %')"
      ]
    }
  ],
  "metadata": {
    "accelerator": "GPU",
    "colab": {
      "provenance": [],
      "toc_visible": true,
      "include_colab_link": true
    },
    "gpuClass": "standard",
    "kernelspec": {
      "display_name": "Python 3",
      "language": "python",
      "name": "python3"
    },
    "language_info": {
      "codemirror_mode": {
        "name": "ipython",
        "version": 3
      },
      "file_extension": ".py",
      "mimetype": "text/x-python",
      "name": "python",
      "nbconvert_exporter": "python",
      "pygments_lexer": "ipython3",
      "version": "3.10.9"
    }
  },
  "nbformat": 4,
  "nbformat_minor": 0
}