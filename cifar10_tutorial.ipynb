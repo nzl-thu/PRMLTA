{
 "cells": [
  {
   "attachments": {},
   "cell_type": "markdown",
   "metadata": {
    "colab_type": "text",
    "id": "view-in-github",
    "pycharm": {
     "name": "#%% md\n"
    }
   },
   "source": [
    "<a href=\"https://colab.research.google.com/github/nzl-thu/PRMLTA/blob/main/cifar10_tutorial.ipynb\" target=\"_parent\"><img src=\"https://colab.research.google.com/assets/colab-badge.svg\" alt=\"Open In Colab\"/></a>"
   ]
  },
  {
   "cell_type": "code",
   "execution_count": 3,
   "metadata": {
    "id": "uB4Pjk-51eyB",
    "pycharm": {
     "name": "#%%\n"
    }
   },
   "outputs": [],
   "source": [
    "# For tips on running notebooks in Google Colab, see\n",
    "# https://pytorch.org/tutorials/beginner/colab\n",
    "%matplotlib inline\n",
    "from matplotlib import pyplot as plt"
   ]
  },
  {
   "cell_type": "markdown",
   "metadata": {
    "id": "BvJyAwAXh60j",
    "pycharm": {
     "name": "#%% md\n"
    }
   },
   "source": [
    "\n",
    "# Tensors\n",
    "\n",
    "Tensors are a specialized data structure that are very similar to arrays\n",
    "and matrices. In PyTorch, we use tensors to encode the inputs and\n",
    "outputs of a model, as well as the model’s parameters.\n",
    "\n",
    "Tensors are similar to NumPy’s ndarrays, except that tensors can run on\n",
    "GPUs or other specialized hardware to accelerate computing. If you’re familiar with ndarrays, you’ll\n",
    "be right at home with the Tensor API. If not, follow along in this quick\n",
    "API walkthrough.\n"
   ]
  },
  {
   "cell_type": "code",
   "execution_count": 2,
   "metadata": {
    "id": "Nz0OjKhXh60k",
    "pycharm": {
     "name": "#%%\n"
    }
   },
   "outputs": [],
   "source": [
    "import torch\n",
    "import numpy as np"
   ]
  },
  {
   "cell_type": "markdown",
   "metadata": {
    "id": "niulxOfhh60k",
    "pycharm": {
     "name": "#%% md\n"
    }
   },
   "source": [
    "## Tensor Initialization\n",
    "\n",
    "Tensors can be initialized in various ways. Take a look at the following examples:\n",
    "\n",
    "**Directly from data**\n",
    "\n",
    "Tensors can be created directly from data. The data type is automatically inferred.\n",
    "\n"
   ]
  },
  {
   "cell_type": "code",
   "execution_count": 3,
   "metadata": {
    "id": "Eg1ll7crh60k",
    "pycharm": {
     "name": "#%%\n"
    }
   },
   "outputs": [],
   "source": [
    "data = [[1, 2], [3, 4]]\n",
    "x_data = torch.tensor(data)"
   ]
  },
  {
   "cell_type": "markdown",
   "metadata": {
    "id": "HlnW9dW3h60k",
    "pycharm": {
     "name": "#%% md\n"
    }
   },
   "source": [
    "**From a NumPy array**\n",
    "\n",
    "Tensors can be created from NumPy arrays (and vice versa - see `bridge-to-np-label`).\n",
    "\n"
   ]
  },
  {
   "cell_type": "code",
   "execution_count": null,
   "metadata": {
    "id": "vvnKkn70h60k",
    "pycharm": {
     "name": "#%%\n"
    }
   },
   "outputs": [],
   "source": [
    "np_array = np.array(data)\n",
    "x_np = torch.from_numpy(np_array)"
   ]
  },
  {
   "cell_type": "markdown",
   "metadata": {
    "id": "WeK7nciwh60k",
    "pycharm": {
     "name": "#%% md\n"
    }
   },
   "source": [
    "**From another tensor:**\n",
    "\n",
    "The new tensor retains the properties (shape, datatype) of the argument tensor, unless explicitly overridden.\n",
    "\n"
   ]
  },
  {
   "cell_type": "code",
   "execution_count": null,
   "metadata": {
    "id": "F79JzIQTh60l",
    "pycharm": {
     "name": "#%%\n"
    }
   },
   "outputs": [],
   "source": [
    "x_ones = torch.ones_like(x_data) # retains the properties of x_data\n",
    "print(f\"Ones Tensor: \\n {x_ones} \\n\")\n",
    "\n",
    "x_rand = torch.rand_like(x_data, dtype=torch.float) # overrides the datatype of x_data\n",
    "print(f\"Random Tensor: \\n {x_rand} \\n\")"
   ]
  },
  {
   "cell_type": "markdown",
   "metadata": {
    "id": "drrLR8Mqh60l",
    "pycharm": {
     "name": "#%% md\n"
    }
   },
   "source": [
    "**With random or constant values:**\n",
    "\n",
    "``shape`` is a tuple of tensor dimensions. In the functions below, it determines the dimensionality of the output tensor.\n",
    "\n"
   ]
  },
  {
   "cell_type": "code",
   "execution_count": null,
   "metadata": {
    "id": "UP9A9evth60l",
    "pycharm": {
     "name": "#%%\n"
    }
   },
   "outputs": [],
   "source": [
    "shape = (2, 3,)\n",
    "rand_tensor = torch.rand(shape)\n",
    "ones_tensor = torch.ones(shape)\n",
    "zeros_tensor = torch.zeros(shape)\n",
    "\n",
    "print(f\"Random Tensor: \\n {rand_tensor} \\n\")\n",
    "print(f\"Ones Tensor: \\n {ones_tensor} \\n\")\n",
    "print(f\"Zeros Tensor: \\n {zeros_tensor}\")"
   ]
  },
  {
   "cell_type": "markdown",
   "metadata": {
    "id": "b_uOVm8jh60l",
    "pycharm": {
     "name": "#%% md\n"
    }
   },
   "source": [
    "--------------\n",
    "\n",
    "\n"
   ]
  },
  {
   "cell_type": "markdown",
   "metadata": {
    "id": "7F0rMKOEh60l",
    "pycharm": {
     "name": "#%% md\n"
    }
   },
   "source": [
    "## Tensor Attributes\n",
    "\n",
    "Tensor attributes describe their shape, datatype, and the device on which they are stored.\n",
    "\n"
   ]
  },
  {
   "cell_type": "code",
   "execution_count": null,
   "metadata": {
    "id": "6L56K3j2h60m",
    "pycharm": {
     "name": "#%%\n"
    }
   },
   "outputs": [],
   "source": [
    "tensor = torch.rand(3, 4)\n",
    "\n",
    "print(f\"Shape of tensor: {tensor.shape}\")\n",
    "print(f\"Datatype of tensor: {tensor.dtype}\")\n",
    "print(f\"Device tensor is stored on: {tensor.device}\")"
   ]
  },
  {
   "cell_type": "markdown",
   "metadata": {
    "id": "x4i6bHtDh60m",
    "pycharm": {
     "name": "#%% md\n"
    }
   },
   "source": [
    "--------------\n",
    "\n",
    "\n"
   ]
  },
  {
   "cell_type": "markdown",
   "metadata": {
    "id": "zMLCJbkIh60m",
    "pycharm": {
     "name": "#%% md\n"
    }
   },
   "source": [
    "## Tensor Operations\n",
    "\n",
    "Over 100 tensor operations, including transposing, indexing, slicing,\n",
    "mathematical operations, linear algebra, random sampling, and more are\n",
    "comprehensively described\n",
    "[here](https://pytorch.org/docs/stable/torch.html)_.\n",
    "\n",
    "Each of them can be run on the GPU (at typically higher speeds than on a\n",
    "CPU). If you’re using Colab, allocate a GPU by going to Edit > Notebook\n",
    "Settings.\n",
    "\n",
    "\n"
   ]
  },
  {
   "cell_type": "code",
   "execution_count": null,
   "metadata": {
    "id": "RNNFdWcPh60m",
    "pycharm": {
     "name": "#%%\n"
    }
   },
   "outputs": [],
   "source": [
    "# We move our tensor to the GPU if available\n",
    "if torch.cuda.is_available():\n",
    "  tensor = tensor.to('cuda')\n",
    "  print(f\"Device tensor is stored on: {tensor.device}\")"
   ]
  },
  {
   "cell_type": "markdown",
   "metadata": {
    "id": "ONRBFa3Yh60m",
    "pycharm": {
     "name": "#%% md\n"
    }
   },
   "source": [
    "Try out some of the operations from the list.\n",
    "If you're familiar with the NumPy API, you'll find the Tensor API a breeze to use.\n",
    "\n",
    "\n"
   ]
  },
  {
   "cell_type": "markdown",
   "metadata": {
    "id": "jUQCmS-Ph60m",
    "pycharm": {
     "name": "#%% md\n"
    }
   },
   "source": [
    "**Standard numpy-like indexing and slicing:**\n",
    "\n"
   ]
  },
  {
   "cell_type": "code",
   "execution_count": null,
   "metadata": {
    "id": "OPPxuzXJh60m",
    "pycharm": {
     "name": "#%%\n"
    }
   },
   "outputs": [],
   "source": [
    "tensor = torch.ones(4, 4)\n",
    "tensor[:,1] = 0\n",
    "print(tensor)"
   ]
  },
  {
   "cell_type": "markdown",
   "metadata": {
    "id": "NU9rI2uvh60m",
    "pycharm": {
     "name": "#%% md\n"
    }
   },
   "source": [
    "**Joining tensors** You can use ``torch.cat`` to concatenate a sequence of tensors along a given dimension.\n",
    "See also [torch.stack](https://pytorch.org/docs/stable/generated/torch.stack.html)_,\n",
    "another tensor joining op that is subtly different from ``torch.cat``.\n",
    "\n"
   ]
  },
  {
   "cell_type": "code",
   "execution_count": null,
   "metadata": {
    "id": "qMy2bkG0h60n",
    "pycharm": {
     "name": "#%%\n"
    }
   },
   "outputs": [],
   "source": [
    "t1 = torch.cat([tensor, tensor, tensor], dim=1)\n",
    "print(t1)"
   ]
  },
  {
   "cell_type": "markdown",
   "metadata": {
    "id": "xjPrYgGAh60n",
    "pycharm": {
     "name": "#%% md\n"
    }
   },
   "source": [
    "**Multiplying tensors**\n",
    "\n"
   ]
  },
  {
   "cell_type": "code",
   "execution_count": null,
   "metadata": {
    "id": "pKX8X9Qsh60n",
    "pycharm": {
     "name": "#%%\n"
    }
   },
   "outputs": [],
   "source": [
    "# This computes the element-wise product\n",
    "print(f\"tensor.mul(tensor) \\n {tensor.mul(tensor)} \\n\")\n",
    "# Alternative syntax:\n",
    "print(f\"tensor * tensor \\n {tensor * tensor}\")"
   ]
  },
  {
   "cell_type": "markdown",
   "metadata": {
    "id": "k9MINziHh60n",
    "pycharm": {
     "name": "#%% md\n"
    }
   },
   "source": [
    "This computes the matrix multiplication between two tensors\n",
    "\n"
   ]
  },
  {
   "cell_type": "code",
   "execution_count": null,
   "metadata": {
    "id": "OoH2bvG_h60n",
    "pycharm": {
     "name": "#%%\n"
    }
   },
   "outputs": [],
   "source": [
    "print(f\"tensor.matmul(tensor.T) \\n {tensor.matmul(tensor.T)} \\n\")\n",
    "# Alternative syntax:\n",
    "print(f\"tensor @ tensor.T \\n {tensor @ tensor.T}\")"
   ]
  },
  {
   "cell_type": "markdown",
   "metadata": {
    "id": "hEO7dUaIh60n",
    "pycharm": {
     "name": "#%% md\n"
    }
   },
   "source": [
    "**In-place operations**\n",
    "Operations that have a ``_`` suffix are in-place. For example: ``x.copy_(y)``, ``x.t_()``, will change ``x``.\n",
    "\n"
   ]
  },
  {
   "cell_type": "code",
   "execution_count": null,
   "metadata": {
    "id": "YxYaIo8Qh60n",
    "pycharm": {
     "name": "#%%\n"
    }
   },
   "outputs": [],
   "source": [
    "print(tensor, \"\\n\")\n",
    "tensor.add_(5)\n",
    "print(tensor)"
   ]
  },
  {
   "cell_type": "markdown",
   "metadata": {
    "id": "EIWOavTkh60n",
    "pycharm": {
     "name": "#%% md\n"
    }
   },
   "source": [
    "<div class=\"alert alert-info\"><h4>Note</h4><p>In-place operations save some memory, but can be problematic when computing derivatives because of an immediate loss\n",
    "     of history. Hence, their use is discouraged.</p></div>\n",
    "\n"
   ]
  },
  {
   "cell_type": "markdown",
   "metadata": {
    "id": "K1FNqDZVygL4",
    "pycharm": {
     "name": "#%% md\n"
    }
   },
   "source": [
    "# A toy example"
   ]
  },
  {
   "cell_type": "markdown",
   "metadata": {
    "id": "e3_cMX-B_neo",
    "pycharm": {
     "name": "#%% md\n"
    }
   },
   "source": [
    "In lecture 9, we have presented a simple demo with numpy for classification. Now we show how this can be achieved by pytorch.\n",
    "\n",
    "First, let's prepare our toy dataset:"
   ]
  },
  {
   "cell_type": "code",
   "execution_count": 4,
   "metadata": {
    "id": "agjsLIqWylQS",
    "pycharm": {
     "name": "#%%\n"
    }
   },
   "outputs": [],
   "source": [
    "import torch\n",
    "from matplotlib import pyplot as plt\n",
    "\n",
    "# Set random seed for reproducibility\n",
    "torch.manual_seed(42)\n",
    "\n",
    "# Initialize weights and data\n",
    "N, Din, H, Dout = 128, 64, 64, 1\n",
    "lr = 5e-5\n",
    "\n",
    "# Training data\n",
    "x_train = torch.randn(N, Din)\n",
    "y_train = torch.zeros(N, 1)\n",
    "x_train[:N // 2, 0] = x_train[:N // 2, 0] * 2 + 3\n",
    "y_train[:N // 2, 0] = 1\n",
    "\n",
    "# Test data\n",
    "N_test = N\n",
    "x_test = torch.randn(N_test, Din)\n",
    "y_test = torch.zeros(N_test, 1)\n",
    "x_test[:N_test // 2, 0] = x_test[:N_test // 2, 0] * 2 + 3\n",
    "y_test[:N_test // 2, 0] = 1"
   ]
  },
  {
   "attachments": {},
   "cell_type": "markdown",
   "metadata": {},
   "source": [
    "Now let's visualize our training data:"
   ]
  },
  {
   "cell_type": "code",
   "execution_count": 5,
   "metadata": {},
   "outputs": [
    {
     "data": {
      "image/png": "[encoded data removed]",
      "text/plain": [
       "<Figure size 640x480 with 1 Axes>"
      ]
     },
     "metadata": {},
     "output_type": "display_data"
    }
   ],
   "source": [
    "plt.scatter(x_train[:, 0], x_train[:, 1], c=y_train[:, 0], cmap=plt.cm.Spectral)\n",
    "plt.xlabel('x')\n",
    "plt.ylabel('y')\n",
    "plt.show()"
   ]
  },
  {
   "cell_type": "markdown",
   "metadata": {
    "id": "MXJvrs1JA8-b",
    "pycharm": {
     "name": "#%% md\n"
    }
   },
   "source": [
    "Now, we define our neural network with one hidden layer (with the dimension being `H`). The neural network is parameterized by two matrices: `theta1` (project input data into hidden space) and `theta2` (project from hidden space to output space):"
   ]
  },
  {
   "cell_type": "code",
   "execution_count": 30,
   "metadata": {
    "id": "2Q2DS2qbB9Vz",
    "pycharm": {
     "name": "#%%\n"
    }
   },
   "outputs": [],
   "source": [
    "theta1 = torch.randn(Din, H, requires_grad=True)\n",
    "theta2 = torch.randn(H, Dout, requires_grad=True)"
   ]
  },
  {
   "attachments": {},
   "cell_type": "markdown",
   "metadata": {
    "id": "4O9W5ecuB-e1",
    "pycharm": {
     "name": "#%% md\n"
    }
   },
   "source": [
    "## Forward Propagation and Loss Calculation\n",
    "We can easily use forward propagation to obtain the model's prediction and calculate the cross-entropy loss within few lines:"
   ]
  },
  {
   "cell_type": "code",
   "execution_count": 31,
   "metadata": {
    "id": "xReTKe6dB6YL",
    "pycharm": {
     "name": "#%%\n"
    }
   },
   "outputs": [],
   "source": [
    "h = torch.sigmoid(x_train.matmul(theta1))\n",
    "h.retain_grad()\n",
    "y_pred = torch.sigmoid(h.matmul(theta2))\n",
    "\n",
    "# Calculate loss\n",
    "loss = torch.mean(-(1 - y_train) * torch.log(1 - y_pred) - y_train * torch.log(y_pred))"
   ]
  },
  {
   "attachments": {},
   "cell_type": "markdown",
   "metadata": {
    "id": "_uf6_IuCCWok",
    "pycharm": {
     "name": "#%% md\n"
    }
   },
   "source": [
    "## Back Propagation\n",
    "For gradient calculation, pytorch can automatically achieve this by a single call of `loss.backward()`:"
   ]
  },
  {
   "cell_type": "code",
   "execution_count": 32,
   "metadata": {
    "colab": {
     "base_uri": "https://localhost:8080/"
    },
    "id": "axjaIxG4DLYt",
    "outputId": "74f1358c-c39c-44df-f516-7dec22493b9d",
    "pycharm": {
     "name": "#%%\n"
    }
   },
   "outputs": [
    {
     "name": "stdout",
     "output_type": "stream",
     "text": [
      "dJ / d theta1=\n",
      " tensor([[ 4.0938e-02, -4.3043e-02,  6.0427e-03,  ...,  2.3516e-02,\n",
      "          1.8382e-02,  8.3365e-04],\n",
      "        [ 3.5143e-03,  1.1285e-02, -7.6663e-04,  ..., -3.0519e-04,\n",
      "          2.8649e-03,  1.0548e-04],\n",
      "        [ 9.5268e-03, -7.1627e-03, -4.7395e-05,  ...,  4.8871e-03,\n",
      "          4.8233e-03, -1.0233e-06],\n",
      "        ...,\n",
      "        [ 1.1853e-02, -5.0302e-03,  1.5210e-03,  ..., -4.4171e-04,\n",
      "          9.2421e-03,  1.1308e-04],\n",
      "        [-9.7145e-03, -1.3430e-03, -2.4203e-04,  ...,  1.6269e-03,\n",
      "         -1.7932e-03, -7.1145e-05],\n",
      "        [-4.7076e-03, -9.0591e-03,  1.8036e-03,  ..., -3.0826e-03,\n",
      "         -3.4869e-03, -1.2574e-04]]) \n",
      "shape of dJ / d theta1: torch.Size([64, 64])\n",
      "dJ / d theta2=\n",
      " tensor([[ 0.0308],\n",
      "        [ 0.0630],\n",
      "        [-0.1268],\n",
      "        [-0.0028],\n",
      "        [-0.0661],\n",
      "        [-0.0514],\n",
      "        [ 0.0410],\n",
      "        [ 0.0519],\n",
      "        [ 0.0070],\n",
      "        [ 0.0587],\n",
      "        [-0.0673],\n",
      "        [-0.0955],\n",
      "        [-0.0299],\n",
      "        [ 0.0044],\n",
      "        [ 0.0490],\n",
      "        [-0.0098],\n",
      "        [-0.0307],\n",
      "        [-0.0111],\n",
      "        [-0.0005],\n",
      "        [-0.0455],\n",
      "        [ 0.0200],\n",
      "        [ 0.0666],\n",
      "        [-0.0781],\n",
      "        [ 0.0299],\n",
      "        [ 0.0018],\n",
      "        [-0.0186],\n",
      "        [-0.0191],\n",
      "        [-0.0158],\n",
      "        [-0.0634],\n",
      "        [ 0.0444],\n",
      "        [-0.0387],\n",
      "        [ 0.0533],\n",
      "        [-0.0347],\n",
      "        [ 0.0241],\n",
      "        [-0.0073],\n",
      "        [-0.0240],\n",
      "        [ 0.0412],\n",
      "        [ 0.0701],\n",
      "        [-0.0542],\n",
      "        [ 0.0611],\n",
      "        [ 0.0443],\n",
      "        [ 0.0215],\n",
      "        [-0.0044],\n",
      "        [-0.0516],\n",
      "        [-0.0154],\n",
      "        [-0.0497],\n",
      "        [-0.0692],\n",
      "        [-0.0005],\n",
      "        [-0.0523],\n",
      "        [ 0.0215],\n",
      "        [-0.1236],\n",
      "        [ 0.0442],\n",
      "        [-0.0023],\n",
      "        [ 0.0835],\n",
      "        [ 0.0088],\n",
      "        [-0.0684],\n",
      "        [-0.0600],\n",
      "        [ 0.0072],\n",
      "        [ 0.0198],\n",
      "        [-0.0524],\n",
      "        [-0.0728],\n",
      "        [-0.0460],\n",
      "        [-0.0523],\n",
      "        [-0.0442]]) \n",
      "shape of dJ / d theta2: torch.Size([64, 1])\n"
     ]
    }
   ],
   "source": [
    "loss.backward()\n",
    "\n",
    "# obtain the gradients on theta1 and theta2\n",
    "print('dJ / d theta1=\\n', theta1.grad, \"\\nshape of dJ / d theta1:\", theta1.grad.shape)\n",
    "print('dJ / d theta2=\\n', theta2.grad, \"\\nshape of dJ / d theta2:\", theta2.grad.shape)"
   ]
  },
  {
   "cell_type": "markdown",
   "metadata": {
    "id": "vjvhgtehI-2I",
    "pycharm": {
     "name": "#%% md\n"
    }
   },
   "source": [
    "We can also inspect the gradient $dJ/dh$, that is the gradient with respect to the activation of the hidden layer:"
   ]
  },
  {
   "cell_type": "code",
   "execution_count": 10,
   "metadata": {
    "colab": {
     "base_uri": "https://localhost:8080/"
    },
    "id": "C6uq5Fj0Eawh",
    "outputId": "e620778e-c486-46f2-de31-99f898a3c592",
    "pycharm": {
     "name": "#%%\n"
    }
   },
   "outputs": [
    {
     "name": "stdout",
     "output_type": "stream",
     "text": [
      "dJ/dh=\n",
      " tensor([[ 1.5533e-04,  1.9420e-04,  8.8764e-04,  ...,  4.0766e-04,\n",
      "          9.7185e-04, -3.1651e-04],\n",
      "        [ 5.6695e-06,  7.0882e-06,  3.2399e-05,  ...,  1.4880e-05,\n",
      "          3.5472e-05, -1.1552e-05],\n",
      "        [ 2.3219e-05,  2.9030e-05,  1.3269e-04,  ...,  6.0939e-05,\n",
      "          1.4528e-04, -4.7313e-05],\n",
      "        ...,\n",
      "        [-2.2218e-03, -2.7777e-03, -1.2696e-02,  ..., -5.8310e-03,\n",
      "         -1.3901e-02,  4.5272e-03],\n",
      "        [-1.7793e-03, -2.2246e-03, -1.0168e-02,  ..., -4.6698e-03,\n",
      "         -1.1133e-02,  3.6257e-03],\n",
      "        [-1.2929e-03, -1.6164e-03, -7.3884e-03,  ..., -3.3932e-03,\n",
      "         -8.0894e-03,  2.6345e-03]])\n",
      "shape of dJ/dh: torch.Size([128, 64])\n"
     ]
    }
   ],
   "source": [
    "print(\"dJ/dh=\\n\", h.grad)\n",
    "print(\"shape of dJ/dh:\", h.grad.shape)"
   ]
  },
  {
   "attachments": {},
   "cell_type": "markdown",
   "metadata": {},
   "source": [
    "## Gradient Descent\n",
    "Next, we can use pytorch's optimizer to perform gradient descent easily:"
   ]
  },
  {
   "cell_type": "code",
   "execution_count": 33,
   "metadata": {
    "id": "ULqtxrmAKE_e",
    "pycharm": {
     "name": "#%%\n"
    }
   },
   "outputs": [
    {
     "name": "stdout",
     "output_type": "stream",
     "text": [
      "theta_1 before gradient descent:\n",
      " tensor([[-0.8476, -0.0746,  1.6060,  ...,  0.0655,  1.2327,  1.5566],\n",
      "        [-1.2382, -1.3372,  0.1522,  ..., -1.5389, -0.5543,  0.4781],\n",
      "        [-0.8741, -0.9685,  0.3821,  ..., -0.1423, -0.3998, -1.1256],\n",
      "        ...,\n",
      "        [-0.9507, -0.6412,  0.6762,  ...,  1.6346,  1.7163,  0.5287],\n",
      "        [ 0.3617,  0.0284,  0.7862,  ..., -0.4626,  0.0907,  0.4144],\n",
      "        [-0.3127,  1.0867,  1.2147,  ...,  0.4430,  1.6820,  1.9812]])\n",
      "theta_1 after gradient descent:\n",
      " tensor([[-0.8480, -0.0741,  1.6059,  ...,  0.0653,  1.2325,  1.5566],\n",
      "        [-1.2382, -1.3373,  0.1523,  ..., -1.5389, -0.5543,  0.4781],\n",
      "        [-0.8742, -0.9684,  0.3821,  ..., -0.1424, -0.3999, -1.1256],\n",
      "        ...,\n",
      "        [-0.9508, -0.6412,  0.6761,  ...,  1.6346,  1.7162,  0.5287],\n",
      "        [ 0.3618,  0.0284,  0.7862,  ..., -0.4626,  0.0907,  0.4144],\n",
      "        [-0.3126,  1.0868,  1.2147,  ...,  0.4430,  1.6821,  1.9812]],\n",
      "       requires_grad=True)\n"
     ]
    }
   ],
   "source": [
    "import torch.optim as optim\n",
    "optimizer = optim.SGD([theta1, theta2], lr=0.01)\n",
    "\n",
    "theta1_orig = theta1.clone().detach()  # record the parameters before gradient descent, we use theta_1 as an example\n",
    "optimizer.step()  # perform gradient descent\n",
    "print('theta_1 before gradient descent:\\n', theta1_orig)\n",
    "print('theta_1 after gradient descent:\\n', theta1)"
   ]
  },
  {
   "attachments": {},
   "cell_type": "markdown",
   "metadata": {},
   "source": [
    "The parameters have already been updated by `optimizer.step`.\n",
    "We can verify this gradient descent step is equal as our learned formulation:\n",
    "\n",
    "$$\n",
    "\\theta_1\\leftarrow \\theta_1 - \\alpha \\cdot \\frac{\\partial J}{\\partial \\theta_1}\n",
    "$$"
   ]
  },
  {
   "cell_type": "code",
   "execution_count": 34,
   "metadata": {},
   "outputs": [
    {
     "name": "stdout",
     "output_type": "stream",
     "text": [
      "theta_1 after gradient descent (analytical):\n",
      " tensor([[-0.8480, -0.0741,  1.6059,  ...,  0.0653,  1.2325,  1.5566],\n",
      "        [-1.2382, -1.3373,  0.1523,  ..., -1.5389, -0.5543,  0.4781],\n",
      "        [-0.8742, -0.9684,  0.3821,  ..., -0.1424, -0.3999, -1.1256],\n",
      "        ...,\n",
      "        [-0.9508, -0.6412,  0.6761,  ...,  1.6346,  1.7162,  0.5287],\n",
      "        [ 0.3618,  0.0284,  0.7862,  ..., -0.4626,  0.0907,  0.4144],\n",
      "        [-0.3126,  1.0868,  1.2147,  ...,  0.4430,  1.6821,  1.9812]])\n",
      "theta_1 after gradient descent (analytical) - theta_1 after gradient descent (PyTorch):\n",
      " tensor([[0., 0., 0.,  ..., 0., 0., 0.],\n",
      "        [0., 0., 0.,  ..., 0., 0., 0.],\n",
      "        [0., 0., 0.,  ..., 0., 0., 0.],\n",
      "        ...,\n",
      "        [0., 0., 0.,  ..., 0., 0., 0.],\n",
      "        [0., 0., 0.,  ..., 0., 0., 0.],\n",
      "        [0., 0., 0.,  ..., 0., 0., 0.]], grad_fn=<SubBackward0>)\n"
     ]
    }
   ],
   "source": [
    "theta1_new_analytical = theta1_orig - 0.01 * theta1.grad\n",
    "print('theta_1 after gradient descent (analytical):\\n', theta1_new_analytical)\n",
    "print('theta_1 after gradient descent (analytical) - theta_1 after gradient descent (PyTorch):\\n', theta1_new_analytical - theta1)"
   ]
  },
  {
   "attachments": {},
   "cell_type": "markdown",
   "metadata": {
    "id": "r1SqWVsIJ3UX",
    "pycharm": {
     "name": "#%% md\n"
    }
   },
   "source": [
    "## Training Loop\n",
    "Now, let's perform training on this toy dataset by repeating the above forward & backward & gradient descent pipeline for 10000 times and see how the neural network learns. "
   ]
  },
  {
   "cell_type": "code",
   "execution_count": 35,
   "metadata": {
    "colab": {
     "base_uri": "https://localhost:8080/",
     "height": 450
    },
    "id": "KtXvfz1byfZb",
    "outputId": "5eccb007-ddfe-4e6e-e9b4-640a2a12e0f2",
    "pycharm": {
     "name": "#%%\n"
    }
   },
   "outputs": [
    {
     "data": {
      "image/png": "[encoded data removed]",
      "text/plain": [
       "<Figure size 640x480 with 2 Axes>"
      ]
     },
     "metadata": {},
     "output_type": "display_data"
    }
   ],
   "source": [
    "# Training\n",
    "loss_list = []\n",
    "accuracy_list = []\n",
    "for t in range(10000):\n",
    "    optimizer.zero_grad()\n",
    "    # Forward\n",
    "    h = torch.sigmoid(x_train.matmul(theta1))\n",
    "    y_pred = torch.sigmoid(h.matmul(theta2))\n",
    "    \n",
    "    # Calculate loss\n",
    "    loss = torch.mean(-(1 - y_train) * torch.log(1 - y_pred) - y_train * torch.log(y_pred))\n",
    "    loss_list.append(loss.item())\n",
    "\n",
    "    # Test accuracy\n",
    "    with torch.no_grad():\n",
    "        h_test = torch.sigmoid(x_test.matmul(theta1))\n",
    "        y_pred_test = torch.sigmoid(h_test.matmul(theta2))\n",
    "        accuracy = torch.mean(((y_pred_test > 0.5) == y_test).float()).item() * 100.0\n",
    "        accuracy_list.append(accuracy)\n",
    "    \n",
    "    # Backward\n",
    "    loss.backward()\n",
    "    \n",
    "    # Update weights with gradient descent\n",
    "    optimizer.step()\n",
    "    \n",
    "# Plot\n",
    "fig, ax1 = plt.subplots()\n",
    "ax1.set_xlabel(\"training steps\")\n",
    "ax1.set_ylabel(\"training loss\")\n",
    "loss_curve = ax1.plot(range(len(loss_list)), loss_list, label=\"training loss\", color=\"tab:blue\")\n",
    "\n",
    "ax2 = ax1.twinx()\n",
    "ax2.set_ylabel(\"test accuracy (%)\")\n",
    "accuracy_curve = ax2.plot(range(len(accuracy_list)), accuracy_list, label=\"test accuracy\", color=\"tab:orange\")\n",
    "\n",
    "curves = loss_curve + accuracy_curve\n",
    "labels = [c.get_label() for c in curves]\n",
    "ax1.legend(curves, labels, loc=\"center right\")\n",
    "\n",
    "plt.show()\n"
   ]
  },
  {
   "cell_type": "markdown",
   "metadata": {
    "id": "M4f3bSAA1eyC",
    "pycharm": {
     "name": "#%% md\n"
    }
   },
   "source": [
    "\n",
    "# Training a Classifier\n",
    "\n",
    "\n",
    "## Data Preparation\n",
    "\n",
    "Generally, when you have to deal with image, text, audio or video data,\n",
    "you can use standard python packages that load data into a numpy array.\n",
    "Then you can convert this array into a ``torch.*Tensor``.\n",
    "\n",
    "Specifically for vision, we have created a package called\n",
    "``torchvision``, that has data loaders for common datasets such as\n",
    "ImageNet, CIFAR10, MNIST, etc. and data transformers for images, viz.,\n",
    "``torchvision.datasets`` and ``torch.utils.data.DataLoader``.\n",
    "\n",
    "This provides a huge convenience and avoids writing boilerplate code.\n",
    "\n",
    "For this tutorial, we will use the CIFAR10 dataset.\n",
    "It has the classes: ‘airplane’, ‘automobile’, ‘bird’, ‘cat’, ‘deer’,\n",
    "‘dog’, ‘frog’, ‘horse’, ‘ship’, ‘truck’. The images in CIFAR-10 are of\n",
    "size 3x32x32, i.e. 3-channel color images of 32x32 pixels in size.\n",
    "\n",
    "## Training an image classifier\n",
    "\n",
    "We will do the following steps in order:\n",
    "\n",
    "1. Load and normalize the CIFAR10 training and test datasets using\n",
    "   ``torchvision``\n",
    "2. Define a Neural Network\n",
    "3. Define a loss function\n",
    "4. Train the network on the training data\n",
    "5. Test the network on the test data\n",
    "\n",
    "### 1. Load and normalize CIFAR10\n",
    "\n",
    "Using ``torchvision``, it’s extremely easy to load CIFAR10.\n"
   ]
  },
  {
   "cell_type": "code",
   "execution_count": null,
   "metadata": {
    "id": "H9m_Wj1r1eyD",
    "pycharm": {
     "name": "#%%\n"
    }
   },
   "outputs": [],
   "source": [
    "import torchvision\n",
    "import torchvision.transforms as transforms"
   ]
  },
  {
   "cell_type": "markdown",
   "metadata": {
    "id": "jTSsPfYI1eyE",
    "pycharm": {
     "name": "#%% md\n"
    }
   },
   "source": [
    "The output of torchvision datasets are PILImage images of range [0, 1].\n",
    "We transform them to Tensors of normalized range [-1, 1].\n",
    "\n"
   ]
  },
  {
   "cell_type": "code",
   "execution_count": null,
   "metadata": {
    "colab": {
     "base_uri": "https://localhost:8080/"
    },
    "id": "t-4mVR4v1eyE",
    "outputId": "d7c18148-1efb-4444-9571-7b638c98ddb9",
    "pycharm": {
     "name": "#%%\n"
    }
   },
   "outputs": [
    {
     "name": "stdout",
     "output_type": "stream",
     "text": [
      "Downloading https://www.cs.toronto.edu/~kriz/cifar-10-python.tar.gz to ./data/cifar-10-python.tar.gz\n"
     ]
    },
    {
     "name": "stderr",
     "output_type": "stream",
     "text": [
      "100%|██████████| 170498071/170498071 [00:06<00:00, 28383578.52it/s]\n"
     ]
    },
    {
     "name": "stdout",
     "output_type": "stream",
     "text": [
      "Extracting ./data/cifar-10-python.tar.gz to ./data\n"
     ]
    },
    {
     "name": "stderr",
     "output_type": "stream",
     "text": [
      "/usr/local/lib/python3.9/dist-packages/torch/utils/data/dataloader.py:561: UserWarning: This DataLoader will create 4 worker processes in total. Our suggested max number of worker in current system is 2, which is smaller than what this DataLoader is going to create. Please be aware that excessive worker creation might get DataLoader running slow or even freeze, lower the worker number to avoid potential slowness/freeze if necessary.\n",
      "  warnings.warn(_create_warning_msg(\n"
     ]
    },
    {
     "name": "stdout",
     "output_type": "stream",
     "text": [
      "Files already downloaded and verified\n"
     ]
    }
   ],
   "source": [
    "transform = transforms.Compose(\n",
    "    [transforms.ToTensor(),\n",
    "     transforms.Normalize((0.5, 0.5, 0.5), (0.5, 0.5, 0.5))])\n",
    "\n",
    "batch_size = 128\n",
    "\n",
    "trainset = torchvision.datasets.CIFAR10(root='./data', train=True,\n",
    "                                        download=True, transform=transform)\n",
    "trainloader = torch.utils.data.DataLoader(trainset, batch_size=batch_size,\n",
    "                                          shuffle=True, num_workers=4)\n",
    "\n",
    "testset = torchvision.datasets.CIFAR10(root='./data', train=False,\n",
    "                                       download=True, transform=transform)\n",
    "testloader = torch.utils.data.DataLoader(testset, batch_size=batch_size,\n",
    "                                         shuffle=False, num_workers=4)\n",
    "\n",
    "classes = ('plane', 'car', 'bird', 'cat',\n",
    "           'deer', 'dog', 'frog', 'horse', 'ship', 'truck')"
   ]
  },
  {
   "cell_type": "markdown",
   "metadata": {
    "id": "_vPiZ9NW1eyE",
    "pycharm": {
     "name": "#%% md\n"
    }
   },
   "source": [
    "Let us show some of the training images, for fun.\n",
    "\n"
   ]
  },
  {
   "cell_type": "code",
   "execution_count": null,
   "metadata": {
    "colab": {
     "base_uri": "https://localhost:8080/",
     "height": 267
    },
    "id": "yCwWHc331eyE",
    "outputId": "2c60cba8-84f2-45fb-fbeb-d555bac7f420",
    "pycharm": {
     "name": "#%%\n"
    }
   },
   "outputs": [
    {
     "name": "stderr",
     "output_type": "stream",
     "text": [
      "/usr/local/lib/python3.9/dist-packages/torch/utils/data/dataloader.py:561: UserWarning: This DataLoader will create 4 worker processes in total. Our suggested max number of worker in current system is 2, which is smaller than what this DataLoader is going to create. Please be aware that excessive worker creation might get DataLoader running slow or even freeze, lower the worker number to avoid potential slowness/freeze if necessary.\n",
      "  warnings.warn(_create_warning_msg(\n"
     ]
    },
    {
     "data": {
      "image/png": "[encoded data removed]",
      "text/plain": [
       "<Figure size 640x480 with 1 Axes>"
      ]
     },
     "metadata": {},
     "output_type": "display_data"
    },
    {
     "name": "stdout",
     "output_type": "stream",
     "text": [
      "ship  cat   horse truck\n"
     ]
    }
   ],
   "source": [
    "import matplotlib.pyplot as plt\n",
    "import numpy as np\n",
    "\n",
    "# functions to show an image\n",
    "\n",
    "\n",
    "def imshow(img):\n",
    "    img = img / 2 + 0.5     # unnormalize\n",
    "    npimg = img.numpy()\n",
    "    plt.imshow(np.transpose(npimg, (1, 2, 0)))\n",
    "    plt.show()\n",
    "\n",
    "\n",
    "# get some random training images\n",
    "dataiter = iter(trainloader)\n",
    "images, labels = next(dataiter)\n",
    "\n",
    "# show images\n",
    "imshow(torchvision.utils.make_grid(images[:4]))\n",
    "# print labels\n",
    "print(' '.join(f'{classes[labels[j]]:5s}' for j in range(4)))"
   ]
  },
  {
   "cell_type": "markdown",
   "metadata": {
    "id": "LbPnPmIC1eyE",
    "pycharm": {
     "name": "#%% md\n"
    }
   },
   "source": [
    "### 2. Define a Neural Network\n",
    "Here, we define a simple neural network with 2 hidden layers:\n",
    "\n"
   ]
  },
  {
   "cell_type": "code",
   "execution_count": null,
   "metadata": {
    "id": "6SUlBp_K1eyF",
    "pycharm": {
     "name": "#%%\n"
    }
   },
   "outputs": [],
   "source": [
    "import torch.nn as nn\n",
    "import torch.nn.functional as F\n",
    "\n",
    "\n",
    "class Net(nn.Module):\n",
    "    def __init__(self):\n",
    "        super().__init__()\n",
    "        self.fc1 = nn.Linear(3*32*32, 768)\n",
    "        self.fc2 = nn.Linear(768, 10)\n",
    "        \n",
    "    def forward(self, x):\n",
    "        x = x.flatten(1)\n",
    "        x = self.fc1(x)\n",
    "        x = F.relu(x)\n",
    "        x = self.fc2(x)\n",
    "        return x\n",
    "\n",
    "net = Net().cuda()  # put the neural network to GPU"
   ]
  },
  {
   "cell_type": "markdown",
   "metadata": {
    "id": "ZIxm3TlP1eyF",
    "pycharm": {
     "name": "#%% md\n"
    }
   },
   "source": [
    "### 3. Define a Loss function and optimizer\n",
    "Let's use a Classification Cross-Entropy loss.\n",
    "For optimizer, we adopt a highly effective one called Adam. \n",
    "\n",
    "Tips: If you are not sure which optimizer to use, try Adam first!"
   ]
  },
  {
   "cell_type": "code",
   "execution_count": null,
   "metadata": {
    "id": "P0lbMvoN1eyF",
    "pycharm": {
     "name": "#%%\n"
    }
   },
   "outputs": [],
   "source": [
    "import torch.optim as optim\n",
    "\n",
    "criterion = nn.CrossEntropyLoss()\n",
    "optimizer = optim.Adam(net.parameters(), lr=0.001)"
   ]
  },
  {
   "cell_type": "markdown",
   "metadata": {
    "id": "oiyR-gC01eyF",
    "pycharm": {
     "name": "#%% md\n"
    }
   },
   "source": [
    "### 4. Train the network\n",
    "\n",
    "This is when things start to get interesting.\n",
    "We simply have to loop over our data iterator, and feed the inputs to the\n",
    "network and optimize.\n",
    "\n"
   ]
  },
  {
   "cell_type": "code",
   "execution_count": null,
   "metadata": {
    "colab": {
     "base_uri": "https://localhost:8080/"
    },
    "id": "6uHRF87O1eyF",
    "outputId": "7678aa34-3d28-4983-9a5c-e337b79b73b4",
    "pycharm": {
     "name": "#%%\n"
    }
   },
   "outputs": [
    {
     "name": "stdout",
     "output_type": "stream",
     "text": [
      "[1,    20] loss: 2.037\n",
      "[1,    40] loss: 1.822\n",
      "[1,    60] loss: 1.740\n",
      "[1,    80] loss: 1.777\n",
      "[1,   100] loss: 1.682\n",
      "[1,   120] loss: 1.720\n",
      "[1,   140] loss: 1.618\n",
      "[1,   160] loss: 1.586\n",
      "[1,   180] loss: 1.649\n",
      "[1,   200] loss: 1.660\n",
      "[1,   220] loss: 1.610\n",
      "[1,   240] loss: 1.597\n",
      "[1,   260] loss: 1.525\n",
      "[1,   280] loss: 1.569\n",
      "[1,   300] loss: 1.602\n",
      "[1,   320] loss: 1.543\n",
      "[1,   340] loss: 1.580\n",
      "[1,   360] loss: 1.502\n",
      "[1,   380] loss: 1.554\n",
      "[2,    20] loss: 1.441\n",
      "[2,    40] loss: 1.451\n",
      "[2,    60] loss: 1.473\n",
      "[2,    80] loss: 1.457\n",
      "[2,   100] loss: 1.486\n",
      "[2,   120] loss: 1.500\n",
      "[2,   140] loss: 1.477\n",
      "[2,   160] loss: 1.495\n",
      "[2,   180] loss: 1.435\n",
      "[2,   200] loss: 1.448\n",
      "[2,   220] loss: 1.434\n",
      "[2,   240] loss: 1.459\n",
      "[2,   260] loss: 1.439\n",
      "[2,   280] loss: 1.439\n",
      "[2,   300] loss: 1.432\n",
      "[2,   320] loss: 1.430\n",
      "[2,   340] loss: 1.434\n",
      "[2,   360] loss: 1.442\n",
      "[2,   380] loss: 1.464\n"
     ]
    }
   ],
   "source": [
    "for epoch in range(2):  # loop over the dataset multiple times\n",
    "\n",
    "    running_loss = 0.0\n",
    "    for i, data in enumerate(trainloader, 0):\n",
    "\n",
    "        # get the inputs; data is a list of [inputs, labels]\n",
    "        inputs, labels = data[0].cuda(), data[1].cuda()  # Note that we should also put data and label to GPU to accelerate training\n",
    "\n",
    "        # zero the parameter gradients\n",
    "        optimizer.zero_grad()\n",
    "\n",
    "        # forward + backward + optimize\n",
    "        outputs = net(inputs)\n",
    "        loss = criterion(outputs, labels)\n",
    "        loss.backward()\n",
    "        optimizer.step()\n",
    "\n",
    "        # print statistics\n",
    "        running_loss += loss.item()\n",
    "        if i % 20 == 19:    # print every 20 mini-batches\n",
    "            print(f'[{epoch + 1}, {i + 1:5d}] loss: {running_loss / 20:.3f}')\n",
    "            running_loss = 0.0"
   ]
  },
  {
   "cell_type": "markdown",
   "metadata": {
    "id": "3koUhJxY1eyF",
    "pycharm": {
     "name": "#%% md\n"
    }
   },
   "source": [
    "Let's quickly save our trained model:\n",
    "\n"
   ]
  },
  {
   "cell_type": "code",
   "execution_count": null,
   "metadata": {
    "id": "x2OGSqZB1eyF",
    "pycharm": {
     "name": "#%%\n"
    }
   },
   "outputs": [],
   "source": [
    "PATH = './cifar_net.pth'\n",
    "torch.save(net.state_dict(), PATH)"
   ]
  },
  {
   "cell_type": "markdown",
   "metadata": {
    "id": "5Almk2xs1eyF",
    "pycharm": {
     "name": "#%% md\n"
    }
   },
   "source": [
    "See [here](https://pytorch.org/docs/stable/notes/serialization.html)\n",
    "for more details on saving PyTorch models.\n",
    "\n",
    "### 5. Test the network on the test data\n",
    "\n",
    "We have trained the network for 2 passes over the training dataset.\n",
    "But we need to check if the network has learnt anything at all.\n",
    "\n",
    "We will check this by predicting the class label that the neural network\n",
    "outputs, and checking it against the ground-truth. If the prediction is\n",
    "correct, we add the sample to the list of correct predictions.\n",
    "\n",
    "Okay, first step. Let us display images from the test set to get familiar.\n",
    "\n"
   ]
  },
  {
   "cell_type": "code",
   "execution_count": null,
   "metadata": {
    "colab": {
     "base_uri": "https://localhost:8080/",
     "height": 211
    },
    "id": "Ybfbkz8n1eyF",
    "outputId": "40c7672d-6b90-4d8f-a4f2-01183ba2f473",
    "pycharm": {
     "name": "#%%\n"
    }
   },
   "outputs": [
    {
     "data": {
      "image/png": "[encoded data removed]",
      "text/plain": [
       "<Figure size 640x480 with 1 Axes>"
      ]
     },
     "metadata": {},
     "output_type": "display_data"
    },
    {
     "name": "stdout",
     "output_type": "stream",
     "text": [
      "GroundTruth:  cat   ship  ship  plane\n"
     ]
    }
   ],
   "source": [
    "dataiter = iter(testloader)\n",
    "images, labels = next(dataiter)\n",
    "\n",
    "# print images\n",
    "imshow(torchvision.utils.make_grid(images[:4]))\n",
    "print('GroundTruth: ', ' '.join(f'{classes[labels[j]]:5s}' for j in range(4)))"
   ]
  },
  {
   "cell_type": "markdown",
   "metadata": {
    "id": "hZBKiGVO1eyF",
    "pycharm": {
     "name": "#%% md\n"
    }
   },
   "source": [
    "Next, let's load back in our saved model (note: saving and re-loading the model\n",
    "wasn't necessary here, we only did it to illustrate how to do so):\n",
    "\n"
   ]
  },
  {
   "cell_type": "code",
   "execution_count": null,
   "metadata": {
    "colab": {
     "base_uri": "https://localhost:8080/"
    },
    "id": "SW9NR23s1eyG",
    "outputId": "d50e9046-43a8-44bd-a0d2-7c6d6e854e5e",
    "pycharm": {
     "name": "#%%\n"
    }
   },
   "outputs": [
    {
     "data": {
      "text/plain": [
       "<All keys matched successfully>"
      ]
     },
     "execution_count": 17,
     "metadata": {},
     "output_type": "execute_result"
    }
   ],
   "source": [
    "net = Net()\n",
    "net.load_state_dict(torch.load(PATH))"
   ]
  },
  {
   "cell_type": "markdown",
   "metadata": {
    "id": "SkgSw_gb1eyG",
    "pycharm": {
     "name": "#%% md\n"
    }
   },
   "source": [
    "Okay, now let us see what the neural network thinks these examples above are:\n",
    "\n"
   ]
  },
  {
   "cell_type": "code",
   "execution_count": null,
   "metadata": {
    "colab": {
     "base_uri": "https://localhost:8080/"
    },
    "id": "EHfZPPjS1eyG",
    "outputId": "01e6043c-8003-4f52-d633-361652398ca2",
    "pycharm": {
     "name": "#%%\n"
    }
   },
   "outputs": [
    {
     "name": "stdout",
     "output_type": "stream",
     "text": [
      "outputs.shape: torch.Size([128, 10])\n",
      "outputs:\n",
      " tensor([[ 0.0821,  0.8933,  1.1616,  ..., -4.5891,  1.7375, -2.1642],\n",
      "        [ 2.0355,  4.5919, -1.4821,  ..., -3.9441,  3.5322,  5.3908],\n",
      "        [ 4.2417,  4.0741, -1.5205,  ..., -1.9349,  4.4799,  3.7503],\n",
      "        ...,\n",
      "        [ 0.0176,  1.2519,  0.2961,  ..., -0.1408, -1.7792,  0.1353],\n",
      "        [ 0.9415, -0.0453, -0.1328,  ..., -0.3279,  1.3832,  1.4473],\n",
      "        [-2.0166, -0.8862,  0.6704,  ...,  1.5208, -0.9208,  1.0073]],\n",
      "       grad_fn=<AddmmBackward0>)\n"
     ]
    }
   ],
   "source": [
    "outputs = net(images)\n",
    "print(\"outputs.shape:\", outputs.shape)\n",
    "print(\"outputs:\\n\", outputs)"
   ]
  },
  {
   "cell_type": "markdown",
   "metadata": {
    "id": "KSmu0_aZ1eyG",
    "pycharm": {
     "name": "#%% md\n"
    }
   },
   "source": [
    "The outputs are energies for the 10 classes.\n",
    "The higher the energy for a class, the more the network\n",
    "thinks that the image is of the particular class.\n",
    "So, let's get the index of the highest energy:\n",
    "\n"
   ]
  },
  {
   "cell_type": "code",
   "execution_count": null,
   "metadata": {
    "colab": {
     "base_uri": "https://localhost:8080/"
    },
    "id": "M42xejT_1eyG",
    "outputId": "27591300-2c03-4998-f110-5cb293a70e3f",
    "pycharm": {
     "name": "#%%\n"
    }
   },
   "outputs": [
    {
     "name": "stdout",
     "output_type": "stream",
     "text": [
      "Predicted:  cat   truck ship  plane\n"
     ]
    }
   ],
   "source": [
    "_, predicted = torch.max(outputs, 1)\n",
    "\n",
    "print('Predicted: ', ' '.join(f'{classes[predicted[j]]:5s}'\n",
    "                              for j in range(4)))"
   ]
  },
  {
   "cell_type": "markdown",
   "metadata": {
    "id": "nFKvbb131eyG",
    "pycharm": {
     "name": "#%% md\n"
    }
   },
   "source": [
    "The results seem ok.\n",
    "\n",
    "Let us look at how the network performs on the whole dataset.\n",
    "\n"
   ]
  },
  {
   "cell_type": "code",
   "execution_count": null,
   "metadata": {
    "colab": {
     "base_uri": "https://localhost:8080/"
    },
    "id": "T-FUZ5TH1eyG",
    "outputId": "5074de8c-684d-4a18-8b6b-a1120723440c",
    "pycharm": {
     "name": "#%%\n"
    }
   },
   "outputs": [
    {
     "name": "stdout",
     "output_type": "stream",
     "text": [
      "Accuracy of the network on the 10000 test images: 48 %\n"
     ]
    }
   ],
   "source": [
    "correct = 0\n",
    "total = 0\n",
    "# since we're not training, we don't need to calculate the gradients for our outputs\n",
    "with torch.no_grad():\n",
    "    for data in testloader:\n",
    "        images, labels = data[0], data[1]\n",
    "        # calculate outputs by running images through the network\n",
    "        outputs = net(images)\n",
    "        # the class with the highest energy is what we choose as prediction\n",
    "        _, predicted = torch.max(outputs.data, 1)\n",
    "        total += labels.size(0)\n",
    "        correct += (predicted == labels).sum().item()\n",
    "\n",
    "print(f'Accuracy of the network on the 10000 test images: {100 * correct // total} %')"
   ]
  },
  {
   "cell_type": "markdown",
   "metadata": {
    "id": "HcQNK_Lr1eyG",
    "pycharm": {
     "name": "#%% md\n"
    }
   },
   "source": [
    "That looks **way better than chance**, which is 10% accuracy (randomly picking\n",
    "a class out of 10 classes).\n",
    "That means the network have already learnt something with this small period of training.\n",
    "\n",
    "Hmmm, what are the classes that performed well, and the classes that did\n",
    "not perform well:\n",
    "\n"
   ]
  },
  {
   "cell_type": "code",
   "execution_count": null,
   "metadata": {
    "colab": {
     "base_uri": "https://localhost:8080/"
    },
    "id": "5ldkDyz-1eyG",
    "outputId": "e333ddff-2e51-4bf7-c395-2fe26043a7fc",
    "pycharm": {
     "name": "#%%\n"
    }
   },
   "outputs": [
    {
     "name": "stdout",
     "output_type": "stream",
     "text": [
      "Accuracy for class: plane is 56.8 %\n",
      "Accuracy for class: car   is 49.0 %\n",
      "Accuracy for class: bird  is 20.8 %\n",
      "Accuracy for class: cat   is 20.6 %\n",
      "Accuracy for class: deer  is 36.5 %\n",
      "Accuracy for class: dog   is 44.5 %\n",
      "Accuracy for class: frog  is 64.2 %\n",
      "Accuracy for class: horse is 66.1 %\n",
      "Accuracy for class: ship  is 59.9 %\n",
      "Accuracy for class: truck is 68.7 %\n"
     ]
    }
   ],
   "source": [
    "# prepare to count predictions for each class\n",
    "correct_pred = {classname: 0 for classname in classes}\n",
    "total_pred = {classname: 0 for classname in classes}\n",
    "\n",
    "# again no gradients needed\n",
    "with torch.no_grad():\n",
    "    for data in testloader:\n",
    "        images, labels = data\n",
    "        outputs = net(images)\n",
    "        _, predictions = torch.max(outputs, 1)\n",
    "        # collect the correct predictions for each class\n",
    "        for label, prediction in zip(labels, predictions):\n",
    "            if label == prediction:\n",
    "                correct_pred[classes[label]] += 1\n",
    "            total_pred[classes[label]] += 1\n",
    "\n",
    "\n",
    "# print accuracy for each class\n",
    "for classname, correct_count in correct_pred.items():\n",
    "    accuracy = 100 * float(correct_count) / total_pred[classname]\n",
    "    print(f'Accuracy for class: {classname:5s} is {accuracy:.1f} %')"
   ]
  },
  {
   "cell_type": "markdown",
   "metadata": {
    "id": "sf-9-yZt1eyG",
    "pycharm": {
     "name": "#%% md\n"
    }
   },
   "source": [
    "Okay, so what next?\n",
    "\n",
    "## Exercise: Build a more powerful neural network\n",
    "\n",
    "The previous example is a basic proof of concept of how we can use pytorch to build neural networks. Now it's your turn to build a more powerful neural network!\n",
    "\n",
    "### ResNet\n",
    "ResNet is a deep convolutional neural network, uses residual connections to address vanishing gradients and performance degradation in deep networks.\n",
    "\n",
    "Simply put, the core idea of ResNet is a so called \"skip\" connection:\n",
    "\n",
    "\\begin{align}\\text{without skip}&: y=f(x) \\\\ \\text{with skip}&: y=f(x)+x\\end{align}\n",
    "\n",
    "A ResNet is typically consists of 3 parts: \n",
    "1. The first part uses one convolutional layer to project the input images into a feature space.\n",
    "2. The second part consists of multiple blocks for feature processing.\n",
    "3. The third part performs a spatial pooling and converts the feature into classification results.\n",
    "The building block of the second part is the key of ResNet, which is achieved by BasicBlock class.\n",
    "\n",
    "### Your task: \n",
    "Finish the BasicBlock class and perform training & evaluation using your ResNet. Compare how it performs with the previous vannila neural network."
   ]
  },
  {
   "cell_type": "code",
   "execution_count": null,
   "metadata": {
    "id": "LWgF9jXw1eyG",
    "pycharm": {
     "name": "#%%\n"
    }
   },
   "outputs": [],
   "source": [
    "class BasicBlock(nn.Module):\n",
    "    def __init__(self, dim):\n",
    "        super().__init__()\n",
    "        # TODO\n",
    "        self.conv1 = nn.Conv2d(dim, dim, kernel_size=3, padding=1)\n",
    "        self.bn1 = nn.BatchNorm2d(dim)\n",
    "        self.conv2 = nn.Conv2d(dim, dim, kernel_size=3, padding=1)\n",
    "        self.bn2 = nn.BatchNorm2d(dim)\n",
    "\n",
    "    def forward(self, x):\n",
    "        # TODO\n",
    "        out = F.relu(self.bn1(self.conv1(x)))\n",
    "        out = self.bn2(self.conv2(out))\n",
    "        out += x\n",
    "        out = F.relu(out)\n",
    "        return out"
   ]
  },
  {
   "cell_type": "code",
   "execution_count": null,
   "metadata": {
    "id": "Hw6KYbRbI3iO",
    "pycharm": {
     "name": "#%%\n"
    }
   },
   "outputs": [],
   "source": [
    "class ResNet(nn.Module):\n",
    "    def __init__(self, n_blocks, num_classes=10):\n",
    "        super().__init__()\n",
    "        self.conv1 = nn.Conv2d(3, 32, kernel_size=3, padding=1)\n",
    "        self.bn1 = nn.BatchNorm2d(32)\n",
    "        self.blocks = nn.Sequential(*[\n",
    "            BasicBlock(dim=32) for _ in range(n_blocks)\n",
    "        ])\n",
    "        self.linear = nn.Linear(32, num_classes)\n",
    "\n",
    "    def forward(self, x):\n",
    "        out = F.relu(self.bn1(self.conv1(x)))\n",
    "        out = self.blocks(out)\n",
    "        out = F.avg_pool2d(out, 32)\n",
    "        out = out.view(out.size(0), -1)\n",
    "        out = self.linear(out)\n",
    "        return out\n",
    "\n",
    "net = ResNet(n_blocks=6).cuda()\n"
   ]
  },
  {
   "cell_type": "markdown",
   "metadata": {
    "id": "Kfoa4M5jPp-7",
    "pycharm": {
     "name": "#%% md\n"
    }
   },
   "source": [
    "Then, it's time to train & test the performance of your neural network! "
   ]
  },
  {
   "cell_type": "code",
   "execution_count": null,
   "metadata": {
    "colab": {
     "base_uri": "https://localhost:8080/"
    },
    "id": "4NSudsdm1eyG",
    "outputId": "662e0767-5e7a-448c-991f-fa2d67b25f0e",
    "pycharm": {
     "name": "#%%\n"
    }
   },
   "outputs": [
    {
     "name": "stdout",
     "output_type": "stream",
     "text": [
      "[1,    20] loss: 2.010\n",
      "[1,    40] loss: 1.757\n",
      "[1,    60] loss: 1.644\n",
      "[1,    80] loss: 1.619\n",
      "[1,   100] loss: 1.545\n",
      "[1,   120] loss: 1.542\n",
      "[1,   140] loss: 1.501\n",
      "[1,   160] loss: 1.476\n",
      "[1,   180] loss: 1.440\n",
      "[1,   200] loss: 1.410\n",
      "[1,   220] loss: 1.361\n",
      "[1,   240] loss: 1.356\n",
      "[1,   260] loss: 1.338\n",
      "[1,   280] loss: 1.332\n",
      "[1,   300] loss: 1.283\n",
      "[1,   320] loss: 1.245\n",
      "[1,   340] loss: 1.267\n",
      "[1,   360] loss: 1.230\n",
      "[1,   380] loss: 1.190\n",
      "[2,    20] loss: 1.153\n",
      "[2,    40] loss: 1.162\n",
      "[2,    60] loss: 1.186\n",
      "[2,    80] loss: 1.138\n",
      "[2,   100] loss: 1.111\n",
      "[2,   120] loss: 1.131\n",
      "[2,   140] loss: 1.126\n",
      "[2,   160] loss: 1.126\n",
      "[2,   180] loss: 1.073\n",
      "[2,   200] loss: 1.071\n",
      "[2,   220] loss: 1.035\n",
      "[2,   240] loss: 1.046\n",
      "[2,   260] loss: 1.049\n",
      "[2,   280] loss: 1.059\n",
      "[2,   300] loss: 1.010\n",
      "[2,   320] loss: 1.018\n",
      "[2,   340] loss: 0.977\n",
      "[2,   360] loss: 1.005\n",
      "[2,   380] loss: 0.957\n",
      "Accuracy of the network on the 10000 test images: 60 %\n"
     ]
    }
   ],
   "source": [
    "criterion = nn.CrossEntropyLoss()\n",
    "optimizer = optim.Adam(net.parameters(), lr=0.001)\n",
    "\n",
    "for epoch in range(2):  # loop over the dataset multiple times\n",
    "\n",
    "    running_loss = 0.0\n",
    "    for i, data in enumerate(trainloader, 0):\n",
    "\n",
    "        # get the inputs; data is a list of [inputs, labels]\n",
    "        inputs, labels = data[0].cuda(), data[1].cuda()\n",
    "\n",
    "        # zero the parameter gradients\n",
    "        optimizer.zero_grad()\n",
    "\n",
    "        # forward + backward + optimize\n",
    "        outputs = net(inputs)\n",
    "        loss = criterion(outputs, labels)\n",
    "        loss.backward()\n",
    "        optimizer.step()\n",
    "\n",
    "        # print statistics\n",
    "        running_loss += loss.item()\n",
    "        if i % 20 == 19:    # print every 20 mini-batches\n",
    "            print(f'[{epoch + 1}, {i + 1:5d}] loss: {running_loss / 20:.3f}')\n",
    "            running_loss = 0.0\n",
    "\n",
    "correct = 0\n",
    "total = 0\n",
    "net.eval()\n",
    "# since we're not training, we don't need to calculate the gradients for our outputs\n",
    "with torch.no_grad():\n",
    "    for data in testloader:\n",
    "        images, labels = data[0].cuda(), data[1].cuda()\n",
    "        # calculate outputs by running images through the network\n",
    "        outputs = net(images)\n",
    "        # the class with the highest energy is what we choose as prediction\n",
    "        _, predicted = torch.max(outputs.data, 1)\n",
    "        total += labels.size(0)\n",
    "        correct += (predicted == labels).sum().item()\n",
    "\n",
    "print(f'Accuracy of the network on the 10000 test images: {100 * correct // total} %')"
   ]
  },
  {
   "cell_type": "markdown",
   "metadata": {
    "id": "O02gaS9NAwu0",
    "pycharm": {
     "name": "#%% md\n"
    }
   },
   "source": [
    "### Your task 2: \n",
    "Load CIFAR100 dataset in torchvision by yourself, then perform train & eval on CIFAR100 dataset.\n",
    "\n",
    "**Note:**The network and optimizer should be re-initialized before training on CIFAR100. \n"
   ]
  },
  {
   "cell_type": "markdown",
   "metadata": {
    "id": "KC6CgPRXG6dF",
    "pycharm": {
     "name": "#%% md\n"
    }
   },
   "source": [
    "\n",
    "# A Gentle Introduction to ``torch.autograd``\n",
    "\n",
    "``torch.autograd`` is PyTorch’s automatic differentiation engine that powers\n",
    "neural network training. In this section, you will get a basic sense of how ``autograd`` collects gradients.\n"
   ]
  },
  {
   "cell_type": "markdown",
   "metadata": {
    "id": "lAfL8QFyIVix",
    "pycharm": {
     "name": "#%% md\n"
    }
   },
   "source": [
    "In homework 8, you have encountered some matrix calculus equations. For example:\n",
    "\n",
    "\\begin{align}&\\frac{\\partial}{\\partial{X}}\\mathrm{\\text{Tr}}((Y-CX)^T(Y-CX))=-2 C^T (Y-CX)\\end{align}\n",
    "\n",
    "Now, let's see how we can perform this gradient calculation using pytorch's autograd mechanics (**without** the need of knowing the explicit formula of the gradient).\n",
    "\n",
    "\n"
   ]
  },
  {
   "cell_type": "markdown",
   "metadata": {
    "id": "TdGbJVerN9R3",
    "pycharm": {
     "name": "#%% md\n"
    }
   },
   "source": [
    "We first create the matrix ``X``, ``C`` and ``Y``. Note that we pass ``requires_grad=True`` when creating matrix ``X``. This signals to ``autograd`` that every operation on them should be tracked."
   ]
  },
  {
   "cell_type": "code",
   "execution_count": null,
   "metadata": {
    "id": "bra0cSMVIVix",
    "pycharm": {
     "name": "#%%\n"
    }
   },
   "outputs": [],
   "source": [
    "import torch\n",
    "X = torch.randn(4, 4, requires_grad=True)\n",
    "C = torch.randn(4, 4)\n",
    "Y = torch.randn(4, 4)"
   ]
  },
  {
   "cell_type": "code",
   "execution_count": null,
   "metadata": {
    "colab": {
     "base_uri": "https://localhost:8080/"
    },
    "id": "K7Ll2LNtIViy",
    "outputId": "4165ffa9-326b-49b1-f767-0c113c8371f2",
    "pycharm": {
     "name": "#%%\n"
    }
   },
   "outputs": [
    {
     "name": "stdout",
     "output_type": "stream",
     "text": [
      "expected gradient on X:\n",
      "\n",
      "autograd calculated gradient on X:\n",
      " tensor([[  7.1441,   5.9599, -12.2284,  -4.2436],\n",
      "        [ -0.0804,   7.4010,  -2.1676,  -3.2257],\n",
      "        [ -0.3697,  -0.9004,  -0.1805,  -0.8725],\n",
      "        [ -3.0835,  -1.3337,   2.0578,   5.0140]])\n"
     ]
    }
   ],
   "source": [
    "print('expected gradient on X:\\n', -2 * C.T @ (Y - C @ X))\n",
    "# calculate the result\n",
    "Q=torch.trace((Y-C @ X).T @ (Y-C.matmul(X)))\n",
    "# perform back-propagation\n",
    "Q.backward()\n",
    "print('autograd calculated gradient on X:\\n', X.grad)  # the gradients on X are stored in X.grad "
   ]
  },
  {
   "cell_type": "markdown",
   "metadata": {
    "id": "NbC649zaQI3A",
    "pycharm": {
     "name": "#%% md\n"
    }
   },
   "source": [
    "Nice! The gradient calculated by autograd is the same as our analytical solution!\n",
    "\n",
    "Now, let's re-execute the cell and see what happens!"
   ]
  },
  {
   "cell_type": "code",
   "execution_count": null,
   "metadata": {
    "colab": {
     "base_uri": "https://localhost:8080/"
    },
    "id": "aQuHIlsDRJ07",
    "outputId": "15618c9e-5d50-45e0-a52d-348e225c106a",
    "pycharm": {
     "name": "#%%\n"
    }
   },
   "outputs": [
    {
     "name": "stdout",
     "output_type": "stream",
     "text": [
      "expected gradient on X:\n",
      " tensor([[  7.1441,   5.9599, -12.2284,  -4.2436],\n",
      "        [ -0.0804,   7.4010,  -2.1676,  -3.2257],\n",
      "        [ -0.3697,  -0.9004,  -0.1805,  -0.8725],\n",
      "        [ -3.0835,  -1.3337,   2.0578,   5.0140]], grad_fn=<MmBackward0>)\n",
      "autograd calculated gradient on X:\n",
      " tensor([[ 14.2882,  11.9197, -24.4569,  -8.4872],\n",
      "        [ -0.1608,  14.8019,  -4.3352,  -6.4514],\n",
      "        [ -0.7395,  -1.8008,  -0.3610,  -1.7449],\n",
      "        [ -6.1670,  -2.6675,   4.1155,  10.0280]])\n"
     ]
    }
   ],
   "source": [
    "print('expected gradient on X:\\n', -2 * C.T @ (Y - C @ X))\n",
    "# calculate the result\n",
    "Q=torch.trace((Y-C @ X).T @ (Y-C.matmul(X)))\n",
    "# perform back-propagation\n",
    "Q.backward()\n",
    "print('autograd calculated gradient on X:\\n', X.grad)"
   ]
  },
  {
   "cell_type": "markdown",
   "metadata": {
    "id": "MJqUu7WXRNJI",
    "pycharm": {
     "name": "#%% md\n"
    }
   },
   "source": [
    "Why in this time the autograd calculated gradient is not the same as our analytical result? This is because every time ``backward()`` function is called, gradients calculated by autograd are **accumulated** into ``X.grad``. \n",
    "\n",
    "As a result, if we are only interested in the gradients for current operations, we must first clear previously stored gradients:"
   ]
  },
  {
   "cell_type": "code",
   "execution_count": null,
   "metadata": {
    "colab": {
     "base_uri": "https://localhost:8080/"
    },
    "id": "SN3YfuBRTGMJ",
    "outputId": "3460c28f-b7fe-46d5-fad7-a5e1c5dce4e7",
    "pycharm": {
     "name": "#%%\n"
    }
   },
   "outputs": [
    {
     "name": "stdout",
     "output_type": "stream",
     "text": [
      "expected gradient on X:\n",
      " tensor([[  7.1441,   5.9599, -12.2284,  -4.2436],\n",
      "        [ -0.0804,   7.4010,  -2.1676,  -3.2257],\n",
      "        [ -0.3697,  -0.9004,  -0.1805,  -0.8725],\n",
      "        [ -3.0835,  -1.3337,   2.0578,   5.0140]], grad_fn=<MmBackward0>)\n",
      "autograd calculated gradient on X:\n",
      " tensor([[  7.1441,   5.9599, -12.2284,  -4.2436],\n",
      "        [ -0.0804,   7.4010,  -2.1676,  -3.2257],\n",
      "        [ -0.3697,  -0.9004,  -0.1805,  -0.8725],\n",
      "        [ -3.0835,  -1.3337,   2.0578,   5.0140]])\n"
     ]
    }
   ],
   "source": [
    "print('expected gradient on X:\\n', -2 * C.T @ (Y - C @ X))\n",
    "Q=torch.trace((Y-C @ X).T @ (Y-C.matmul(X)))\n",
    "X.grad.zero_()  # Important! Clear the previously stored gradients\n",
    "Q.backward()\n",
    "print('autograd calculated gradient on X:\\n', X.grad)"
   ]
  },
  {
   "attachments": {},
   "cell_type": "markdown",
   "metadata": {
    "id": "bdaO3qgJT1HC",
    "pycharm": {
     "name": "#%% md\n"
    }
   },
   "source": [
    "Works as we expected again!\n",
    "\n",
    "Therefore, when performing neural network training, we will use ``zero_grad`` of optimizer to clear the gradient before performing gradient update."
   ]
  },
  {
   "cell_type": "markdown",
   "metadata": {},
   "source": []
  }
 ],
 "metadata": {
  "accelerator": "GPU",
  "colab": {
   "include_colab_link": true,
   "provenance": [],
   "toc_visible": true
  },
  "gpuClass": "standard",
  "kernelspec": {
   "display_name": "Python 3",
   "language": "python",
   "name": "python3"
  },
  "language_info": {
   "codemirror_mode": {
    "name": "ipython",
    "version": 3
   },
   "file_extension": ".py",
   "mimetype": "text/x-python",
   "name": "python",
   "nbconvert_exporter": "python",
   "pygments_lexer": "ipython3",
   "version": "3.8.13"
  }
 },
 "nbformat": 4,
 "nbformat_minor": 0
}
